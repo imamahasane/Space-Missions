{
 "cells": [
  {
   "cell_type": "code",
   "execution_count": 883,
   "id": "b1b14664-28fe-44a5-8f89-1d13cc1b044f",
   "metadata": {},
   "outputs": [],
   "source": [
    "import pandas as pd\n",
    "import seaborn as sns\n",
    "import matplotlib.pyplot as plt"
   ]
  },
  {
   "cell_type": "code",
   "execution_count": 884,
   "id": "78f14d2e-1254-422e-a5f3-6332ac47388b",
   "metadata": {},
   "outputs": [],
   "source": [
    "data = pd.read_csv('space_missions.csv', encoding= 'ISO-8859-1')"
   ]
  },
  {
   "cell_type": "code",
   "execution_count": 885,
   "id": "268b8459-e7c3-42ea-ac5a-539741bbab08",
   "metadata": {},
   "outputs": [],
   "source": [
    "df = data.copy()"
   ]
  },
  {
   "cell_type": "code",
   "execution_count": 886,
   "id": "9fef4e2a-b25f-4ff2-a1f2-e50a205a1289",
   "metadata": {},
   "outputs": [
    {
     "data": {
      "text/html": [
       "<div>\n",
       "<style scoped>\n",
       "    .dataframe tbody tr th:only-of-type {\n",
       "        vertical-align: middle;\n",
       "    }\n",
       "\n",
       "    .dataframe tbody tr th {\n",
       "        vertical-align: top;\n",
       "    }\n",
       "\n",
       "    .dataframe thead th {\n",
       "        text-align: right;\n",
       "    }\n",
       "</style>\n",
       "<table border=\"1\" class=\"dataframe\">\n",
       "  <thead>\n",
       "    <tr style=\"text-align: right;\">\n",
       "      <th></th>\n",
       "      <th>Company</th>\n",
       "      <th>Location</th>\n",
       "      <th>Date</th>\n",
       "      <th>Time</th>\n",
       "      <th>Rocket</th>\n",
       "      <th>Mission</th>\n",
       "      <th>RocketStatus</th>\n",
       "      <th>Price</th>\n",
       "      <th>MissionStatus</th>\n",
       "    </tr>\n",
       "  </thead>\n",
       "  <tbody>\n",
       "    <tr>\n",
       "      <th>0</th>\n",
       "      <td>RVSN USSR</td>\n",
       "      <td>Site 1/5, Baikonur Cosmodrome, Kazakhstan</td>\n",
       "      <td>1957-10-04</td>\n",
       "      <td>19:28:00</td>\n",
       "      <td>Sputnik 8K71PS</td>\n",
       "      <td>Sputnik-1</td>\n",
       "      <td>Retired</td>\n",
       "      <td>NaN</td>\n",
       "      <td>Success</td>\n",
       "    </tr>\n",
       "    <tr>\n",
       "      <th>1</th>\n",
       "      <td>RVSN USSR</td>\n",
       "      <td>Site 1/5, Baikonur Cosmodrome, Kazakhstan</td>\n",
       "      <td>1957-11-03</td>\n",
       "      <td>02:30:00</td>\n",
       "      <td>Sputnik 8K71PS</td>\n",
       "      <td>Sputnik-2</td>\n",
       "      <td>Retired</td>\n",
       "      <td>NaN</td>\n",
       "      <td>Success</td>\n",
       "    </tr>\n",
       "    <tr>\n",
       "      <th>2</th>\n",
       "      <td>US Navy</td>\n",
       "      <td>LC-18A, Cape Canaveral AFS, Florida, USA</td>\n",
       "      <td>1957-12-06</td>\n",
       "      <td>16:44:00</td>\n",
       "      <td>Vanguard</td>\n",
       "      <td>Vanguard TV3</td>\n",
       "      <td>Retired</td>\n",
       "      <td>NaN</td>\n",
       "      <td>Failure</td>\n",
       "    </tr>\n",
       "    <tr>\n",
       "      <th>3</th>\n",
       "      <td>AMBA</td>\n",
       "      <td>LC-26A, Cape Canaveral AFS, Florida, USA</td>\n",
       "      <td>1958-02-01</td>\n",
       "      <td>03:48:00</td>\n",
       "      <td>Juno I</td>\n",
       "      <td>Explorer 1</td>\n",
       "      <td>Retired</td>\n",
       "      <td>NaN</td>\n",
       "      <td>Success</td>\n",
       "    </tr>\n",
       "    <tr>\n",
       "      <th>4</th>\n",
       "      <td>US Navy</td>\n",
       "      <td>LC-18A, Cape Canaveral AFS, Florida, USA</td>\n",
       "      <td>1958-02-05</td>\n",
       "      <td>07:33:00</td>\n",
       "      <td>Vanguard</td>\n",
       "      <td>Vanguard TV3BU</td>\n",
       "      <td>Retired</td>\n",
       "      <td>NaN</td>\n",
       "      <td>Failure</td>\n",
       "    </tr>\n",
       "  </tbody>\n",
       "</table>\n",
       "</div>"
      ],
      "text/plain": [
       "     Company                                   Location        Date      Time  \\\n",
       "0  RVSN USSR  Site 1/5, Baikonur Cosmodrome, Kazakhstan  1957-10-04  19:28:00   \n",
       "1  RVSN USSR  Site 1/5, Baikonur Cosmodrome, Kazakhstan  1957-11-03  02:30:00   \n",
       "2    US Navy   LC-18A, Cape Canaveral AFS, Florida, USA  1957-12-06  16:44:00   \n",
       "3       AMBA   LC-26A, Cape Canaveral AFS, Florida, USA  1958-02-01  03:48:00   \n",
       "4    US Navy   LC-18A, Cape Canaveral AFS, Florida, USA  1958-02-05  07:33:00   \n",
       "\n",
       "           Rocket         Mission RocketStatus Price MissionStatus  \n",
       "0  Sputnik 8K71PS       Sputnik-1      Retired   NaN       Success  \n",
       "1  Sputnik 8K71PS       Sputnik-2      Retired   NaN       Success  \n",
       "2        Vanguard    Vanguard TV3      Retired   NaN       Failure  \n",
       "3          Juno I      Explorer 1      Retired   NaN       Success  \n",
       "4        Vanguard  Vanguard TV3BU      Retired   NaN       Failure  "
      ]
     },
     "execution_count": 886,
     "metadata": {},
     "output_type": "execute_result"
    }
   ],
   "source": [
    "df.head()"
   ]
  },
  {
   "cell_type": "code",
   "execution_count": 887,
   "id": "bb72cf93-ff16-4270-979b-14175a8a6894",
   "metadata": {},
   "outputs": [
    {
     "data": {
      "text/html": [
       "<div>\n",
       "<style scoped>\n",
       "    .dataframe tbody tr th:only-of-type {\n",
       "        vertical-align: middle;\n",
       "    }\n",
       "\n",
       "    .dataframe tbody tr th {\n",
       "        vertical-align: top;\n",
       "    }\n",
       "\n",
       "    .dataframe thead th {\n",
       "        text-align: right;\n",
       "    }\n",
       "</style>\n",
       "<table border=\"1\" class=\"dataframe\">\n",
       "  <thead>\n",
       "    <tr style=\"text-align: right;\">\n",
       "      <th></th>\n",
       "      <th>Company</th>\n",
       "      <th>Location</th>\n",
       "      <th>Date</th>\n",
       "      <th>Time</th>\n",
       "      <th>Rocket</th>\n",
       "      <th>Mission</th>\n",
       "      <th>RocketStatus</th>\n",
       "      <th>Price</th>\n",
       "      <th>MissionStatus</th>\n",
       "    </tr>\n",
       "  </thead>\n",
       "  <tbody>\n",
       "    <tr>\n",
       "      <th>4625</th>\n",
       "      <td>SpaceX</td>\n",
       "      <td>SLC-4E, Vandenberg SFB, California, USA</td>\n",
       "      <td>2022-07-22</td>\n",
       "      <td>17:39:00</td>\n",
       "      <td>Falcon 9 Block 5</td>\n",
       "      <td>Starlink Group 3-2</td>\n",
       "      <td>Active</td>\n",
       "      <td>67</td>\n",
       "      <td>Success</td>\n",
       "    </tr>\n",
       "    <tr>\n",
       "      <th>4626</th>\n",
       "      <td>CASC</td>\n",
       "      <td>LC-101, Wenchang Satellite Launch Center, China</td>\n",
       "      <td>2022-07-24</td>\n",
       "      <td>06:22:00</td>\n",
       "      <td>Long March 5B</td>\n",
       "      <td>Wentian</td>\n",
       "      <td>Active</td>\n",
       "      <td>NaN</td>\n",
       "      <td>Success</td>\n",
       "    </tr>\n",
       "    <tr>\n",
       "      <th>4627</th>\n",
       "      <td>SpaceX</td>\n",
       "      <td>LC-39A, Kennedy Space Center, Florida, USA</td>\n",
       "      <td>2022-07-24</td>\n",
       "      <td>13:38:00</td>\n",
       "      <td>Falcon 9 Block 5</td>\n",
       "      <td>Starlink Group 4-25</td>\n",
       "      <td>Active</td>\n",
       "      <td>67</td>\n",
       "      <td>Success</td>\n",
       "    </tr>\n",
       "    <tr>\n",
       "      <th>4628</th>\n",
       "      <td>CAS Space</td>\n",
       "      <td>Jiuquan Satellite Launch Center, China</td>\n",
       "      <td>2022-07-27</td>\n",
       "      <td>04:12:00</td>\n",
       "      <td>Zhongke-1A</td>\n",
       "      <td>Demo Flight</td>\n",
       "      <td>Active</td>\n",
       "      <td>NaN</td>\n",
       "      <td>Success</td>\n",
       "    </tr>\n",
       "    <tr>\n",
       "      <th>4629</th>\n",
       "      <td>CASC</td>\n",
       "      <td>LC-3, Xichang Satellite Launch Center, China</td>\n",
       "      <td>2022-07-29</td>\n",
       "      <td>13:28:00</td>\n",
       "      <td>Long March 2D</td>\n",
       "      <td>Yaogan 35 Group 03</td>\n",
       "      <td>Active</td>\n",
       "      <td>29.75</td>\n",
       "      <td>Success</td>\n",
       "    </tr>\n",
       "  </tbody>\n",
       "</table>\n",
       "</div>"
      ],
      "text/plain": [
       "        Company                                         Location        Date  \\\n",
       "4625     SpaceX          SLC-4E, Vandenberg SFB, California, USA  2022-07-22   \n",
       "4626       CASC  LC-101, Wenchang Satellite Launch Center, China  2022-07-24   \n",
       "4627     SpaceX       LC-39A, Kennedy Space Center, Florida, USA  2022-07-24   \n",
       "4628  CAS Space           Jiuquan Satellite Launch Center, China  2022-07-27   \n",
       "4629       CASC     LC-3, Xichang Satellite Launch Center, China  2022-07-29   \n",
       "\n",
       "          Time            Rocket              Mission RocketStatus  Price  \\\n",
       "4625  17:39:00  Falcon 9 Block 5   Starlink Group 3-2       Active     67   \n",
       "4626  06:22:00     Long March 5B              Wentian       Active    NaN   \n",
       "4627  13:38:00  Falcon 9 Block 5  Starlink Group 4-25       Active     67   \n",
       "4628  04:12:00        Zhongke-1A          Demo Flight       Active    NaN   \n",
       "4629  13:28:00     Long March 2D   Yaogan 35 Group 03       Active  29.75   \n",
       "\n",
       "     MissionStatus  \n",
       "4625       Success  \n",
       "4626       Success  \n",
       "4627       Success  \n",
       "4628       Success  \n",
       "4629       Success  "
      ]
     },
     "execution_count": 887,
     "metadata": {},
     "output_type": "execute_result"
    }
   ],
   "source": [
    "df.tail()"
   ]
  },
  {
   "cell_type": "code",
   "execution_count": 888,
   "id": "9aae2dc8-c75b-4ca0-8c9b-1a97e28653a2",
   "metadata": {},
   "outputs": [
    {
     "data": {
      "text/html": [
       "<div>\n",
       "<style scoped>\n",
       "    .dataframe tbody tr th:only-of-type {\n",
       "        vertical-align: middle;\n",
       "    }\n",
       "\n",
       "    .dataframe tbody tr th {\n",
       "        vertical-align: top;\n",
       "    }\n",
       "\n",
       "    .dataframe thead th {\n",
       "        text-align: right;\n",
       "    }\n",
       "</style>\n",
       "<table border=\"1\" class=\"dataframe\">\n",
       "  <thead>\n",
       "    <tr style=\"text-align: right;\">\n",
       "      <th></th>\n",
       "      <th>Company</th>\n",
       "      <th>Location</th>\n",
       "      <th>Date</th>\n",
       "      <th>Time</th>\n",
       "      <th>Rocket</th>\n",
       "      <th>Mission</th>\n",
       "      <th>RocketStatus</th>\n",
       "      <th>Price</th>\n",
       "      <th>MissionStatus</th>\n",
       "    </tr>\n",
       "  </thead>\n",
       "  <tbody>\n",
       "    <tr>\n",
       "      <th>977</th>\n",
       "      <td>RVSN USSR</td>\n",
       "      <td>Site 132/1, Plesetsk Cosmodrome, Russia</td>\n",
       "      <td>1971-05-22</td>\n",
       "      <td>00:51:00</td>\n",
       "      <td>Cosmos-3M (11K65M)</td>\n",
       "      <td>Cosmos 422</td>\n",
       "      <td>Retired</td>\n",
       "      <td>NaN</td>\n",
       "      <td>Success</td>\n",
       "    </tr>\n",
       "    <tr>\n",
       "      <th>1659</th>\n",
       "      <td>RVSN USSR</td>\n",
       "      <td>Site 43/3, Plesetsk Cosmodrome, Russia</td>\n",
       "      <td>1977-09-16</td>\n",
       "      <td>14:30:00</td>\n",
       "      <td>Soyuz U</td>\n",
       "      <td>Cosmos 953</td>\n",
       "      <td>Retired</td>\n",
       "      <td>NaN</td>\n",
       "      <td>Success</td>\n",
       "    </tr>\n",
       "    <tr>\n",
       "      <th>1647</th>\n",
       "      <td>RVSN USSR</td>\n",
       "      <td>Site 90/20, Baikonur Cosmodrome, Kazakhstan</td>\n",
       "      <td>1977-08-24</td>\n",
       "      <td>07:07:00</td>\n",
       "      <td>Tsyklon-2</td>\n",
       "      <td>Cosmos 937</td>\n",
       "      <td>Retired</td>\n",
       "      <td>NaN</td>\n",
       "      <td>Success</td>\n",
       "    </tr>\n",
       "    <tr>\n",
       "      <th>4525</th>\n",
       "      <td>SpaceX</td>\n",
       "      <td>SLC-4E, Vandenberg SFB, California, USA</td>\n",
       "      <td>2021-12-18</td>\n",
       "      <td>12:41:00</td>\n",
       "      <td>Falcon 9 Block 5</td>\n",
       "      <td>Starlink Group 4-4</td>\n",
       "      <td>Active</td>\n",
       "      <td>67</td>\n",
       "      <td>Success</td>\n",
       "    </tr>\n",
       "    <tr>\n",
       "      <th>599</th>\n",
       "      <td>RVSN USSR</td>\n",
       "      <td>Site 90/19, Baikonur Cosmodrome, Kazakhstan</td>\n",
       "      <td>1967-10-27</td>\n",
       "      <td>02:21:00</td>\n",
       "      <td>Tsyklon-2A</td>\n",
       "      <td>Cosmos 185</td>\n",
       "      <td>Retired</td>\n",
       "      <td>NaN</td>\n",
       "      <td>Success</td>\n",
       "    </tr>\n",
       "  </tbody>\n",
       "</table>\n",
       "</div>"
      ],
      "text/plain": [
       "        Company                                     Location        Date  \\\n",
       "977   RVSN USSR      Site 132/1, Plesetsk Cosmodrome, Russia  1971-05-22   \n",
       "1659  RVSN USSR       Site 43/3, Plesetsk Cosmodrome, Russia  1977-09-16   \n",
       "1647  RVSN USSR  Site 90/20, Baikonur Cosmodrome, Kazakhstan  1977-08-24   \n",
       "4525     SpaceX      SLC-4E, Vandenberg SFB, California, USA  2021-12-18   \n",
       "599   RVSN USSR  Site 90/19, Baikonur Cosmodrome, Kazakhstan  1967-10-27   \n",
       "\n",
       "          Time              Rocket             Mission RocketStatus Price  \\\n",
       "977   00:51:00  Cosmos-3M (11K65M)          Cosmos 422      Retired   NaN   \n",
       "1659  14:30:00             Soyuz U          Cosmos 953      Retired   NaN   \n",
       "1647  07:07:00           Tsyklon-2          Cosmos 937      Retired   NaN   \n",
       "4525  12:41:00    Falcon 9 Block 5  Starlink Group 4-4       Active    67   \n",
       "599   02:21:00          Tsyklon-2A          Cosmos 185      Retired   NaN   \n",
       "\n",
       "     MissionStatus  \n",
       "977        Success  \n",
       "1659       Success  \n",
       "1647       Success  \n",
       "4525       Success  \n",
       "599        Success  "
      ]
     },
     "execution_count": 888,
     "metadata": {},
     "output_type": "execute_result"
    }
   ],
   "source": [
    "df.sample(5)"
   ]
  },
  {
   "cell_type": "code",
   "execution_count": 889,
   "id": "04a5603a-0d26-43ae-9bd1-4d0f239cb7da",
   "metadata": {},
   "outputs": [
    {
     "data": {
      "text/plain": [
       "(4630, 9)"
      ]
     },
     "execution_count": 889,
     "metadata": {},
     "output_type": "execute_result"
    }
   ],
   "source": [
    "df.shape"
   ]
  },
  {
   "cell_type": "code",
   "execution_count": 890,
   "id": "2d439749-e3b8-47ae-9b78-a50d18e2e147",
   "metadata": {},
   "outputs": [
    {
     "name": "stdout",
     "output_type": "stream",
     "text": [
      "<class 'pandas.core.frame.DataFrame'>\n",
      "RangeIndex: 4630 entries, 0 to 4629\n",
      "Data columns (total 9 columns):\n",
      " #   Column         Non-Null Count  Dtype \n",
      "---  ------         --------------  ----- \n",
      " 0   Company        4630 non-null   object\n",
      " 1   Location       4630 non-null   object\n",
      " 2   Date           4630 non-null   object\n",
      " 3   Time           4503 non-null   object\n",
      " 4   Rocket         4630 non-null   object\n",
      " 5   Mission        4630 non-null   object\n",
      " 6   RocketStatus   4630 non-null   object\n",
      " 7   Price          1265 non-null   object\n",
      " 8   MissionStatus  4630 non-null   object\n",
      "dtypes: object(9)\n",
      "memory usage: 325.7+ KB\n"
     ]
    }
   ],
   "source": [
    "df.info()"
   ]
  },
  {
   "cell_type": "code",
   "execution_count": 891,
   "id": "07a98afb-353c-4686-a76c-4f51c3e32ca4",
   "metadata": {},
   "outputs": [
    {
     "data": {
      "text/html": [
       "<div>\n",
       "<style scoped>\n",
       "    .dataframe tbody tr th:only-of-type {\n",
       "        vertical-align: middle;\n",
       "    }\n",
       "\n",
       "    .dataframe tbody tr th {\n",
       "        vertical-align: top;\n",
       "    }\n",
       "\n",
       "    .dataframe thead th {\n",
       "        text-align: right;\n",
       "    }\n",
       "</style>\n",
       "<table border=\"1\" class=\"dataframe\">\n",
       "  <thead>\n",
       "    <tr style=\"text-align: right;\">\n",
       "      <th></th>\n",
       "      <th>Company</th>\n",
       "      <th>Location</th>\n",
       "      <th>Date</th>\n",
       "      <th>Time</th>\n",
       "      <th>Rocket</th>\n",
       "      <th>Mission</th>\n",
       "      <th>RocketStatus</th>\n",
       "      <th>Price</th>\n",
       "      <th>MissionStatus</th>\n",
       "    </tr>\n",
       "  </thead>\n",
       "  <tbody>\n",
       "    <tr>\n",
       "      <th>count</th>\n",
       "      <td>4630</td>\n",
       "      <td>4630</td>\n",
       "      <td>4630</td>\n",
       "      <td>4503</td>\n",
       "      <td>4630</td>\n",
       "      <td>4630</td>\n",
       "      <td>4630</td>\n",
       "      <td>1265</td>\n",
       "      <td>4630</td>\n",
       "    </tr>\n",
       "    <tr>\n",
       "      <th>unique</th>\n",
       "      <td>62</td>\n",
       "      <td>158</td>\n",
       "      <td>4180</td>\n",
       "      <td>1300</td>\n",
       "      <td>370</td>\n",
       "      <td>4556</td>\n",
       "      <td>2</td>\n",
       "      <td>65</td>\n",
       "      <td>4</td>\n",
       "    </tr>\n",
       "    <tr>\n",
       "      <th>top</th>\n",
       "      <td>RVSN USSR</td>\n",
       "      <td>Site 31/6, Baikonur Cosmodrome, Kazakhstan</td>\n",
       "      <td>1962-04-26</td>\n",
       "      <td>12:00:00</td>\n",
       "      <td>Cosmos-3M (11K65M)</td>\n",
       "      <td>DSP</td>\n",
       "      <td>Retired</td>\n",
       "      <td>450</td>\n",
       "      <td>Success</td>\n",
       "    </tr>\n",
       "    <tr>\n",
       "      <th>freq</th>\n",
       "      <td>1777</td>\n",
       "      <td>251</td>\n",
       "      <td>4</td>\n",
       "      <td>52</td>\n",
       "      <td>446</td>\n",
       "      <td>8</td>\n",
       "      <td>3620</td>\n",
       "      <td>136</td>\n",
       "      <td>4162</td>\n",
       "    </tr>\n",
       "  </tbody>\n",
       "</table>\n",
       "</div>"
      ],
      "text/plain": [
       "          Company                                    Location        Date  \\\n",
       "count        4630                                        4630        4630   \n",
       "unique         62                                         158        4180   \n",
       "top     RVSN USSR  Site 31/6, Baikonur Cosmodrome, Kazakhstan  1962-04-26   \n",
       "freq         1777                                         251           4   \n",
       "\n",
       "            Time              Rocket Mission RocketStatus Price MissionStatus  \n",
       "count       4503                4630    4630         4630  1265          4630  \n",
       "unique      1300                 370    4556            2    65             4  \n",
       "top     12:00:00  Cosmos-3M (11K65M)     DSP      Retired   450       Success  \n",
       "freq          52                 446       8         3620   136          4162  "
      ]
     },
     "execution_count": 891,
     "metadata": {},
     "output_type": "execute_result"
    }
   ],
   "source": [
    "df.describe()"
   ]
  },
  {
   "cell_type": "code",
   "execution_count": 892,
   "id": "7443b987-a0fa-4795-b8ba-06a63f5ca66d",
   "metadata": {},
   "outputs": [
    {
     "data": {
      "text/html": [
       "<div>\n",
       "<style scoped>\n",
       "    .dataframe tbody tr th:only-of-type {\n",
       "        vertical-align: middle;\n",
       "    }\n",
       "\n",
       "    .dataframe tbody tr th {\n",
       "        vertical-align: top;\n",
       "    }\n",
       "\n",
       "    .dataframe thead th {\n",
       "        text-align: right;\n",
       "    }\n",
       "</style>\n",
       "<table border=\"1\" class=\"dataframe\">\n",
       "  <thead>\n",
       "    <tr style=\"text-align: right;\">\n",
       "      <th></th>\n",
       "      <th>count</th>\n",
       "      <th>unique</th>\n",
       "      <th>top</th>\n",
       "      <th>freq</th>\n",
       "    </tr>\n",
       "  </thead>\n",
       "  <tbody>\n",
       "    <tr>\n",
       "      <th>Company</th>\n",
       "      <td>4630</td>\n",
       "      <td>62</td>\n",
       "      <td>RVSN USSR</td>\n",
       "      <td>1777</td>\n",
       "    </tr>\n",
       "    <tr>\n",
       "      <th>Location</th>\n",
       "      <td>4630</td>\n",
       "      <td>158</td>\n",
       "      <td>Site 31/6, Baikonur Cosmodrome, Kazakhstan</td>\n",
       "      <td>251</td>\n",
       "    </tr>\n",
       "    <tr>\n",
       "      <th>Date</th>\n",
       "      <td>4630</td>\n",
       "      <td>4180</td>\n",
       "      <td>1962-04-26</td>\n",
       "      <td>4</td>\n",
       "    </tr>\n",
       "    <tr>\n",
       "      <th>Time</th>\n",
       "      <td>4503</td>\n",
       "      <td>1300</td>\n",
       "      <td>12:00:00</td>\n",
       "      <td>52</td>\n",
       "    </tr>\n",
       "    <tr>\n",
       "      <th>Rocket</th>\n",
       "      <td>4630</td>\n",
       "      <td>370</td>\n",
       "      <td>Cosmos-3M (11K65M)</td>\n",
       "      <td>446</td>\n",
       "    </tr>\n",
       "    <tr>\n",
       "      <th>Mission</th>\n",
       "      <td>4630</td>\n",
       "      <td>4556</td>\n",
       "      <td>DSP</td>\n",
       "      <td>8</td>\n",
       "    </tr>\n",
       "    <tr>\n",
       "      <th>RocketStatus</th>\n",
       "      <td>4630</td>\n",
       "      <td>2</td>\n",
       "      <td>Retired</td>\n",
       "      <td>3620</td>\n",
       "    </tr>\n",
       "    <tr>\n",
       "      <th>Price</th>\n",
       "      <td>1265</td>\n",
       "      <td>65</td>\n",
       "      <td>450</td>\n",
       "      <td>136</td>\n",
       "    </tr>\n",
       "    <tr>\n",
       "      <th>MissionStatus</th>\n",
       "      <td>4630</td>\n",
       "      <td>4</td>\n",
       "      <td>Success</td>\n",
       "      <td>4162</td>\n",
       "    </tr>\n",
       "  </tbody>\n",
       "</table>\n",
       "</div>"
      ],
      "text/plain": [
       "              count unique                                         top  freq\n",
       "Company        4630     62                                   RVSN USSR  1777\n",
       "Location       4630    158  Site 31/6, Baikonur Cosmodrome, Kazakhstan   251\n",
       "Date           4630   4180                                  1962-04-26     4\n",
       "Time           4503   1300                                    12:00:00    52\n",
       "Rocket         4630    370                          Cosmos-3M (11K65M)   446\n",
       "Mission        4630   4556                                         DSP     8\n",
       "RocketStatus   4630      2                                     Retired  3620\n",
       "Price          1265     65                                         450   136\n",
       "MissionStatus  4630      4                                     Success  4162"
      ]
     },
     "execution_count": 892,
     "metadata": {},
     "output_type": "execute_result"
    }
   ],
   "source": [
    "df.describe().transpose()"
   ]
  },
  {
   "cell_type": "code",
   "execution_count": 893,
   "id": "c9424471-21e5-4c54-a351-f8765c4ac639",
   "metadata": {},
   "outputs": [
    {
     "data": {
      "text/plain": [
       "Company             0\n",
       "Location            0\n",
       "Date                0\n",
       "Time              127\n",
       "Rocket              0\n",
       "Mission             0\n",
       "RocketStatus        0\n",
       "Price            3365\n",
       "MissionStatus       0\n",
       "dtype: int64"
      ]
     },
     "execution_count": 893,
     "metadata": {},
     "output_type": "execute_result"
    }
   ],
   "source": [
    "df.isnull().sum()"
   ]
  },
  {
   "cell_type": "code",
   "execution_count": 894,
   "id": "504714f7-f21b-44ec-a337-71e314905122",
   "metadata": {},
   "outputs": [
    {
     "data": {
      "text/plain": [
       "1"
      ]
     },
     "execution_count": 894,
     "metadata": {},
     "output_type": "execute_result"
    }
   ],
   "source": [
    "df.duplicated().sum()"
   ]
  },
  {
   "cell_type": "code",
   "execution_count": 895,
   "id": "41729482-8ca8-45a2-bed7-e29b609af12c",
   "metadata": {},
   "outputs": [],
   "source": [
    "df['DateTime'] = pd.to_datetime(df['Date'] + ' ' + df['Time'], errors='coerce')"
   ]
  },
  {
   "cell_type": "code",
   "execution_count": 896,
   "id": "53a1e5c1-5e24-40ae-a666-4c0c354a5599",
   "metadata": {},
   "outputs": [
    {
     "data": {
      "text/html": [
       "<div>\n",
       "<style scoped>\n",
       "    .dataframe tbody tr th:only-of-type {\n",
       "        vertical-align: middle;\n",
       "    }\n",
       "\n",
       "    .dataframe tbody tr th {\n",
       "        vertical-align: top;\n",
       "    }\n",
       "\n",
       "    .dataframe thead th {\n",
       "        text-align: right;\n",
       "    }\n",
       "</style>\n",
       "<table border=\"1\" class=\"dataframe\">\n",
       "  <thead>\n",
       "    <tr style=\"text-align: right;\">\n",
       "      <th></th>\n",
       "      <th>Company</th>\n",
       "      <th>Location</th>\n",
       "      <th>Date</th>\n",
       "      <th>Time</th>\n",
       "      <th>Rocket</th>\n",
       "      <th>Mission</th>\n",
       "      <th>RocketStatus</th>\n",
       "      <th>Price</th>\n",
       "      <th>MissionStatus</th>\n",
       "      <th>DateTime</th>\n",
       "    </tr>\n",
       "  </thead>\n",
       "  <tbody>\n",
       "    <tr>\n",
       "      <th>0</th>\n",
       "      <td>RVSN USSR</td>\n",
       "      <td>Site 1/5, Baikonur Cosmodrome, Kazakhstan</td>\n",
       "      <td>1957-10-04</td>\n",
       "      <td>19:28:00</td>\n",
       "      <td>Sputnik 8K71PS</td>\n",
       "      <td>Sputnik-1</td>\n",
       "      <td>Retired</td>\n",
       "      <td>NaN</td>\n",
       "      <td>Success</td>\n",
       "      <td>1957-10-04 19:28:00</td>\n",
       "    </tr>\n",
       "    <tr>\n",
       "      <th>1</th>\n",
       "      <td>RVSN USSR</td>\n",
       "      <td>Site 1/5, Baikonur Cosmodrome, Kazakhstan</td>\n",
       "      <td>1957-11-03</td>\n",
       "      <td>02:30:00</td>\n",
       "      <td>Sputnik 8K71PS</td>\n",
       "      <td>Sputnik-2</td>\n",
       "      <td>Retired</td>\n",
       "      <td>NaN</td>\n",
       "      <td>Success</td>\n",
       "      <td>1957-11-03 02:30:00</td>\n",
       "    </tr>\n",
       "    <tr>\n",
       "      <th>2</th>\n",
       "      <td>US Navy</td>\n",
       "      <td>LC-18A, Cape Canaveral AFS, Florida, USA</td>\n",
       "      <td>1957-12-06</td>\n",
       "      <td>16:44:00</td>\n",
       "      <td>Vanguard</td>\n",
       "      <td>Vanguard TV3</td>\n",
       "      <td>Retired</td>\n",
       "      <td>NaN</td>\n",
       "      <td>Failure</td>\n",
       "      <td>1957-12-06 16:44:00</td>\n",
       "    </tr>\n",
       "    <tr>\n",
       "      <th>3</th>\n",
       "      <td>AMBA</td>\n",
       "      <td>LC-26A, Cape Canaveral AFS, Florida, USA</td>\n",
       "      <td>1958-02-01</td>\n",
       "      <td>03:48:00</td>\n",
       "      <td>Juno I</td>\n",
       "      <td>Explorer 1</td>\n",
       "      <td>Retired</td>\n",
       "      <td>NaN</td>\n",
       "      <td>Success</td>\n",
       "      <td>1958-02-01 03:48:00</td>\n",
       "    </tr>\n",
       "    <tr>\n",
       "      <th>4</th>\n",
       "      <td>US Navy</td>\n",
       "      <td>LC-18A, Cape Canaveral AFS, Florida, USA</td>\n",
       "      <td>1958-02-05</td>\n",
       "      <td>07:33:00</td>\n",
       "      <td>Vanguard</td>\n",
       "      <td>Vanguard TV3BU</td>\n",
       "      <td>Retired</td>\n",
       "      <td>NaN</td>\n",
       "      <td>Failure</td>\n",
       "      <td>1958-02-05 07:33:00</td>\n",
       "    </tr>\n",
       "  </tbody>\n",
       "</table>\n",
       "</div>"
      ],
      "text/plain": [
       "     Company                                   Location        Date      Time  \\\n",
       "0  RVSN USSR  Site 1/5, Baikonur Cosmodrome, Kazakhstan  1957-10-04  19:28:00   \n",
       "1  RVSN USSR  Site 1/5, Baikonur Cosmodrome, Kazakhstan  1957-11-03  02:30:00   \n",
       "2    US Navy   LC-18A, Cape Canaveral AFS, Florida, USA  1957-12-06  16:44:00   \n",
       "3       AMBA   LC-26A, Cape Canaveral AFS, Florida, USA  1958-02-01  03:48:00   \n",
       "4    US Navy   LC-18A, Cape Canaveral AFS, Florida, USA  1958-02-05  07:33:00   \n",
       "\n",
       "           Rocket         Mission RocketStatus Price MissionStatus  \\\n",
       "0  Sputnik 8K71PS       Sputnik-1      Retired   NaN       Success   \n",
       "1  Sputnik 8K71PS       Sputnik-2      Retired   NaN       Success   \n",
       "2        Vanguard    Vanguard TV3      Retired   NaN       Failure   \n",
       "3          Juno I      Explorer 1      Retired   NaN       Success   \n",
       "4        Vanguard  Vanguard TV3BU      Retired   NaN       Failure   \n",
       "\n",
       "             DateTime  \n",
       "0 1957-10-04 19:28:00  \n",
       "1 1957-11-03 02:30:00  \n",
       "2 1957-12-06 16:44:00  \n",
       "3 1958-02-01 03:48:00  \n",
       "4 1958-02-05 07:33:00  "
      ]
     },
     "execution_count": 896,
     "metadata": {},
     "output_type": "execute_result"
    }
   ],
   "source": [
    "df.head()"
   ]
  },
  {
   "cell_type": "code",
   "execution_count": 897,
   "id": "6b6793c7-b016-4a65-b909-1c7e8144288b",
   "metadata": {},
   "outputs": [
    {
     "data": {
      "text/plain": [
       "Company             0\n",
       "Location            0\n",
       "Date                0\n",
       "Time              127\n",
       "Rocket              0\n",
       "Mission             0\n",
       "RocketStatus        0\n",
       "Price            3365\n",
       "MissionStatus       0\n",
       "DateTime          127\n",
       "dtype: int64"
      ]
     },
     "execution_count": 897,
     "metadata": {},
     "output_type": "execute_result"
    }
   ],
   "source": [
    "df.isnull().sum()"
   ]
  },
  {
   "cell_type": "markdown",
   "id": "f4176401-b835-41df-bde2-58a10b1b113c",
   "metadata": {},
   "source": [
    "# Q1: Count the total number of missions for each company"
   ]
  },
  {
   "cell_type": "code",
   "execution_count": 899,
   "id": "456e2e38-a4c0-45a6-bb39-b3b338f1d1f0",
   "metadata": {},
   "outputs": [
    {
     "data": {
      "text/html": [
       "<div>\n",
       "<style scoped>\n",
       "    .dataframe tbody tr th:only-of-type {\n",
       "        vertical-align: middle;\n",
       "    }\n",
       "\n",
       "    .dataframe tbody tr th {\n",
       "        vertical-align: top;\n",
       "    }\n",
       "\n",
       "    .dataframe thead th {\n",
       "        text-align: right;\n",
       "    }\n",
       "</style>\n",
       "<table border=\"1\" class=\"dataframe\">\n",
       "  <thead>\n",
       "    <tr style=\"text-align: right;\">\n",
       "      <th></th>\n",
       "      <th>Company</th>\n",
       "      <th>count</th>\n",
       "    </tr>\n",
       "  </thead>\n",
       "  <tbody>\n",
       "    <tr>\n",
       "      <th>0</th>\n",
       "      <td>RVSN USSR</td>\n",
       "      <td>1777</td>\n",
       "    </tr>\n",
       "    <tr>\n",
       "      <th>1</th>\n",
       "      <td>CASC</td>\n",
       "      <td>338</td>\n",
       "    </tr>\n",
       "    <tr>\n",
       "      <th>2</th>\n",
       "      <td>Arianespace</td>\n",
       "      <td>293</td>\n",
       "    </tr>\n",
       "    <tr>\n",
       "      <th>3</th>\n",
       "      <td>General Dynamics</td>\n",
       "      <td>251</td>\n",
       "    </tr>\n",
       "    <tr>\n",
       "      <th>4</th>\n",
       "      <td>VKS RF</td>\n",
       "      <td>216</td>\n",
       "    </tr>\n",
       "    <tr>\n",
       "      <th>...</th>\n",
       "      <td>...</td>\n",
       "      <td>...</td>\n",
       "    </tr>\n",
       "    <tr>\n",
       "      <th>57</th>\n",
       "      <td>OneSpace</td>\n",
       "      <td>1</td>\n",
       "    </tr>\n",
       "    <tr>\n",
       "      <th>58</th>\n",
       "      <td>Douglas</td>\n",
       "      <td>1</td>\n",
       "    </tr>\n",
       "    <tr>\n",
       "      <th>59</th>\n",
       "      <td>GK LS</td>\n",
       "      <td>1</td>\n",
       "    </tr>\n",
       "    <tr>\n",
       "      <th>60</th>\n",
       "      <td>Firefly</td>\n",
       "      <td>1</td>\n",
       "    </tr>\n",
       "    <tr>\n",
       "      <th>61</th>\n",
       "      <td>CAS Space</td>\n",
       "      <td>1</td>\n",
       "    </tr>\n",
       "  </tbody>\n",
       "</table>\n",
       "<p>62 rows × 2 columns</p>\n",
       "</div>"
      ],
      "text/plain": [
       "             Company  count\n",
       "0          RVSN USSR   1777\n",
       "1               CASC    338\n",
       "2        Arianespace    293\n",
       "3   General Dynamics    251\n",
       "4             VKS RF    216\n",
       "..               ...    ...\n",
       "57          OneSpace      1\n",
       "58           Douglas      1\n",
       "59             GK LS      1\n",
       "60           Firefly      1\n",
       "61         CAS Space      1\n",
       "\n",
       "[62 rows x 2 columns]"
      ]
     },
     "execution_count": 899,
     "metadata": {},
     "output_type": "execute_result"
    }
   ],
   "source": [
    "launches = df['Company'].value_counts().reset_index()\n",
    "launches"
   ]
  },
  {
   "cell_type": "code",
   "execution_count": 900,
   "id": "f34e2221-3527-4cdb-8bd7-4515feebcce7",
   "metadata": {},
   "outputs": [
    {
     "data": {
      "text/html": [
       "<div>\n",
       "<style scoped>\n",
       "    .dataframe tbody tr th:only-of-type {\n",
       "        vertical-align: middle;\n",
       "    }\n",
       "\n",
       "    .dataframe tbody tr th {\n",
       "        vertical-align: top;\n",
       "    }\n",
       "\n",
       "    .dataframe thead th {\n",
       "        text-align: right;\n",
       "    }\n",
       "</style>\n",
       "<table border=\"1\" class=\"dataframe\">\n",
       "  <thead>\n",
       "    <tr style=\"text-align: right;\">\n",
       "      <th></th>\n",
       "      <th>Company</th>\n",
       "      <th>count</th>\n",
       "    </tr>\n",
       "  </thead>\n",
       "  <tbody>\n",
       "    <tr>\n",
       "      <th>0</th>\n",
       "      <td>RVSN USSR</td>\n",
       "      <td>1777</td>\n",
       "    </tr>\n",
       "    <tr>\n",
       "      <th>1</th>\n",
       "      <td>CASC</td>\n",
       "      <td>338</td>\n",
       "    </tr>\n",
       "    <tr>\n",
       "      <th>2</th>\n",
       "      <td>Arianespace</td>\n",
       "      <td>293</td>\n",
       "    </tr>\n",
       "    <tr>\n",
       "      <th>3</th>\n",
       "      <td>General Dynamics</td>\n",
       "      <td>251</td>\n",
       "    </tr>\n",
       "    <tr>\n",
       "      <th>4</th>\n",
       "      <td>VKS RF</td>\n",
       "      <td>216</td>\n",
       "    </tr>\n",
       "    <tr>\n",
       "      <th>5</th>\n",
       "      <td>NASA</td>\n",
       "      <td>203</td>\n",
       "    </tr>\n",
       "    <tr>\n",
       "      <th>6</th>\n",
       "      <td>SpaceX</td>\n",
       "      <td>182</td>\n",
       "    </tr>\n",
       "    <tr>\n",
       "      <th>7</th>\n",
       "      <td>US Air Force</td>\n",
       "      <td>161</td>\n",
       "    </tr>\n",
       "    <tr>\n",
       "      <th>8</th>\n",
       "      <td>ULA</td>\n",
       "      <td>151</td>\n",
       "    </tr>\n",
       "    <tr>\n",
       "      <th>9</th>\n",
       "      <td>Boeing</td>\n",
       "      <td>136</td>\n",
       "    </tr>\n",
       "  </tbody>\n",
       "</table>\n",
       "</div>"
      ],
      "text/plain": [
       "            Company  count\n",
       "0         RVSN USSR   1777\n",
       "1              CASC    338\n",
       "2       Arianespace    293\n",
       "3  General Dynamics    251\n",
       "4            VKS RF    216\n",
       "5              NASA    203\n",
       "6            SpaceX    182\n",
       "7      US Air Force    161\n",
       "8               ULA    151\n",
       "9            Boeing    136"
      ]
     },
     "execution_count": 900,
     "metadata": {},
     "output_type": "execute_result"
    }
   ],
   "source": [
    "launches2 = launches[:10]\n",
    "launches2"
   ]
  },
  {
   "cell_type": "code",
   "execution_count": 901,
   "id": "5ef8f032-486d-4335-ad7e-8117902db91d",
   "metadata": {},
   "outputs": [
    {
     "data": {
      "image/png": "[encoded data removed]",
      "text/plain": [
       "<Figure size 640x480 with 1 Axes>"
      ]
     },
     "metadata": {},
     "output_type": "display_data"
    }
   ],
   "source": [
    "sns.barplot(x = 'Company', y = 'count', data= launches2)\n",
    "plt.title('Count the total number of missions for each company')\n",
    "plt.xlabel('Company')\n",
    "plt.ylabel('Number of Launches')\n",
    "plt.xticks(rotation = 90)\n",
    "plt.show()"
   ]
  },
  {
   "cell_type": "code",
   "execution_count": 902,
   "id": "373ffb5f-3a1b-4ef8-a656-8fd0cbe3b5e9",
   "metadata": {},
   "outputs": [
    {
     "data": {
      "image/png": "[encoded data removed]",
      "text/plain": [
       "<Figure size 640x480 with 1 Axes>"
      ]
     },
     "metadata": {},
     "output_type": "display_data"
    }
   ],
   "source": [
    "plt.bar(launches2['Company'], launches2['count'])\n",
    "plt.title('Count the total number of missions for each company')\n",
    "plt.xlabel('Company')\n",
    "plt.ylabel('Number of Launches')\n",
    "plt.xticks(rotation = 90)\n",
    "plt.show()"
   ]
  },
  {
   "cell_type": "markdown",
   "id": "2da2a3e2-9809-49a2-9298-0e52dd3f2c54",
   "metadata": {},
   "source": [
    "# Q2: Count the number of successful missions for each company"
   ]
  },
  {
   "cell_type": "code",
   "execution_count": 904,
   "id": "2df5ec3c-2fdc-4d12-a310-80cd7d93f1d9",
   "metadata": {},
   "outputs": [
    {
     "data": {
      "text/html": [
       "<div>\n",
       "<style scoped>\n",
       "    .dataframe tbody tr th:only-of-type {\n",
       "        vertical-align: middle;\n",
       "    }\n",
       "\n",
       "    .dataframe tbody tr th {\n",
       "        vertical-align: top;\n",
       "    }\n",
       "\n",
       "    .dataframe thead th {\n",
       "        text-align: right;\n",
       "    }\n",
       "</style>\n",
       "<table border=\"1\" class=\"dataframe\">\n",
       "  <thead>\n",
       "    <tr style=\"text-align: right;\">\n",
       "      <th></th>\n",
       "      <th>Company</th>\n",
       "      <th>count</th>\n",
       "    </tr>\n",
       "  </thead>\n",
       "  <tbody>\n",
       "    <tr>\n",
       "      <th>0</th>\n",
       "      <td>RVSN USSR</td>\n",
       "      <td>1614</td>\n",
       "    </tr>\n",
       "    <tr>\n",
       "      <th>1</th>\n",
       "      <td>CASC</td>\n",
       "      <td>318</td>\n",
       "    </tr>\n",
       "    <tr>\n",
       "      <th>2</th>\n",
       "      <td>Arianespace</td>\n",
       "      <td>282</td>\n",
       "    </tr>\n",
       "    <tr>\n",
       "      <th>3</th>\n",
       "      <td>General Dynamics</td>\n",
       "      <td>203</td>\n",
       "    </tr>\n",
       "    <tr>\n",
       "      <th>4</th>\n",
       "      <td>VKS RF</td>\n",
       "      <td>202</td>\n",
       "    </tr>\n",
       "  </tbody>\n",
       "</table>\n",
       "</div>"
      ],
      "text/plain": [
       "            Company  count\n",
       "0         RVSN USSR   1614\n",
       "1              CASC    318\n",
       "2       Arianespace    282\n",
       "3  General Dynamics    203\n",
       "4            VKS RF    202"
      ]
     },
     "execution_count": 904,
     "metadata": {},
     "output_type": "execute_result"
    }
   ],
   "source": [
    "succes = df[df['MissionStatus'] == 'Success']['Company'].value_counts().reset_index()\n",
    "succes.head()"
   ]
  },
  {
   "cell_type": "code",
   "execution_count": 905,
   "id": "209f250e-faaa-45fa-9760-138f81a6a414",
   "metadata": {},
   "outputs": [],
   "source": [
    "succes2 = succes[:15]"
   ]
  },
  {
   "cell_type": "code",
   "execution_count": 906,
   "id": "b5951602-799e-4670-9b92-75fdd090a320",
   "metadata": {},
   "outputs": [
    {
     "data": {
      "text/html": [
       "<div>\n",
       "<style scoped>\n",
       "    .dataframe tbody tr th:only-of-type {\n",
       "        vertical-align: middle;\n",
       "    }\n",
       "\n",
       "    .dataframe tbody tr th {\n",
       "        vertical-align: top;\n",
       "    }\n",
       "\n",
       "    .dataframe thead th {\n",
       "        text-align: right;\n",
       "    }\n",
       "</style>\n",
       "<table border=\"1\" class=\"dataframe\">\n",
       "  <thead>\n",
       "    <tr style=\"text-align: right;\">\n",
       "      <th></th>\n",
       "      <th>Company</th>\n",
       "      <th>count</th>\n",
       "    </tr>\n",
       "  </thead>\n",
       "  <tbody>\n",
       "    <tr>\n",
       "      <th>0</th>\n",
       "      <td>RVSN USSR</td>\n",
       "      <td>1614</td>\n",
       "    </tr>\n",
       "    <tr>\n",
       "      <th>1</th>\n",
       "      <td>CASC</td>\n",
       "      <td>318</td>\n",
       "    </tr>\n",
       "    <tr>\n",
       "      <th>2</th>\n",
       "      <td>Arianespace</td>\n",
       "      <td>282</td>\n",
       "    </tr>\n",
       "    <tr>\n",
       "      <th>3</th>\n",
       "      <td>General Dynamics</td>\n",
       "      <td>203</td>\n",
       "    </tr>\n",
       "    <tr>\n",
       "      <th>4</th>\n",
       "      <td>VKS RF</td>\n",
       "      <td>202</td>\n",
       "    </tr>\n",
       "    <tr>\n",
       "      <th>5</th>\n",
       "      <td>NASA</td>\n",
       "      <td>186</td>\n",
       "    </tr>\n",
       "    <tr>\n",
       "      <th>6</th>\n",
       "      <td>SpaceX</td>\n",
       "      <td>172</td>\n",
       "    </tr>\n",
       "    <tr>\n",
       "      <th>7</th>\n",
       "      <td>ULA</td>\n",
       "      <td>150</td>\n",
       "    </tr>\n",
       "    <tr>\n",
       "      <th>8</th>\n",
       "      <td>Boeing</td>\n",
       "      <td>131</td>\n",
       "    </tr>\n",
       "    <tr>\n",
       "      <th>9</th>\n",
       "      <td>US Air Force</td>\n",
       "      <td>129</td>\n",
       "    </tr>\n",
       "    <tr>\n",
       "      <th>10</th>\n",
       "      <td>Martin Marietta</td>\n",
       "      <td>100</td>\n",
       "    </tr>\n",
       "    <tr>\n",
       "      <th>11</th>\n",
       "      <td>MHI</td>\n",
       "      <td>83</td>\n",
       "    </tr>\n",
       "    <tr>\n",
       "      <th>12</th>\n",
       "      <td>Northrop</td>\n",
       "      <td>80</td>\n",
       "    </tr>\n",
       "    <tr>\n",
       "      <th>13</th>\n",
       "      <td>Lockheed</td>\n",
       "      <td>74</td>\n",
       "    </tr>\n",
       "    <tr>\n",
       "      <th>14</th>\n",
       "      <td>ISRO</td>\n",
       "      <td>68</td>\n",
       "    </tr>\n",
       "  </tbody>\n",
       "</table>\n",
       "</div>"
      ],
      "text/plain": [
       "             Company  count\n",
       "0          RVSN USSR   1614\n",
       "1               CASC    318\n",
       "2        Arianespace    282\n",
       "3   General Dynamics    203\n",
       "4             VKS RF    202\n",
       "5               NASA    186\n",
       "6             SpaceX    172\n",
       "7                ULA    150\n",
       "8             Boeing    131\n",
       "9       US Air Force    129\n",
       "10   Martin Marietta    100\n",
       "11               MHI     83\n",
       "12          Northrop     80\n",
       "13          Lockheed     74\n",
       "14              ISRO     68"
      ]
     },
     "execution_count": 906,
     "metadata": {},
     "output_type": "execute_result"
    }
   ],
   "source": [
    "succes2"
   ]
  },
  {
   "cell_type": "code",
   "execution_count": 907,
   "id": "c147fe2c-dc0c-43bc-80b2-a23fff1b0250",
   "metadata": {},
   "outputs": [
    {
     "data": {
      "image/png": "[encoded data removed]",
      "text/plain": [
       "<Figure size 640x480 with 1 Axes>"
      ]
     },
     "metadata": {},
     "output_type": "display_data"
    }
   ],
   "source": [
    "sns.barplot(x = 'Company', y = 'count', data= succes2)\n",
    "plt.title('Count the number of successful missions for each company')\n",
    "plt.xlabel('Company')\n",
    "plt.ylabel('number of successful missions')\n",
    "plt.xticks(rotation= 90)\n",
    "plt.show()"
   ]
  },
  {
   "cell_type": "code",
   "execution_count": 908,
   "id": "f1a079fd-b8ad-4ee1-874d-7437376f53bf",
   "metadata": {},
   "outputs": [
    {
     "data": {
      "image/png": "[encoded data removed]",
      "text/plain": [
       "<Figure size 640x480 with 1 Axes>"
      ]
     },
     "metadata": {},
     "output_type": "display_data"
    }
   ],
   "source": [
    "plt.bar(succes2['Company'], succes2['count'])\n",
    "plt.title('Count the number of successful missions for each company')\n",
    "plt.xlabel('Company')\n",
    "plt.ylabel('number of successful missions')\n",
    "plt.xticks(rotation= 90)\n",
    "plt.show()"
   ]
  },
  {
   "cell_type": "markdown",
   "id": "9aa786fe-f325-41af-a338-46341300fd00",
   "metadata": {},
   "source": [
    "# Q3: Calculate the success rate per each company"
   ]
  },
  {
   "cell_type": "code",
   "execution_count": 910,
   "id": "8860ce0b-af42-4ccb-96b7-e4d7e101bb2a",
   "metadata": {},
   "outputs": [
    {
     "data": {
      "text/html": [
       "<div>\n",
       "<style scoped>\n",
       "    .dataframe tbody tr th:only-of-type {\n",
       "        vertical-align: middle;\n",
       "    }\n",
       "\n",
       "    .dataframe tbody tr th {\n",
       "        vertical-align: top;\n",
       "    }\n",
       "\n",
       "    .dataframe thead th {\n",
       "        text-align: right;\n",
       "    }\n",
       "</style>\n",
       "<table border=\"1\" class=\"dataframe\">\n",
       "  <thead>\n",
       "    <tr style=\"text-align: right;\">\n",
       "      <th></th>\n",
       "      <th>Company</th>\n",
       "      <th>count</th>\n",
       "    </tr>\n",
       "  </thead>\n",
       "  <tbody>\n",
       "    <tr>\n",
       "      <th>0</th>\n",
       "      <td>RVSN USSR</td>\n",
       "      <td>1777</td>\n",
       "    </tr>\n",
       "    <tr>\n",
       "      <th>1</th>\n",
       "      <td>CASC</td>\n",
       "      <td>338</td>\n",
       "    </tr>\n",
       "    <tr>\n",
       "      <th>2</th>\n",
       "      <td>Arianespace</td>\n",
       "      <td>293</td>\n",
       "    </tr>\n",
       "    <tr>\n",
       "      <th>3</th>\n",
       "      <td>General Dynamics</td>\n",
       "      <td>251</td>\n",
       "    </tr>\n",
       "    <tr>\n",
       "      <th>4</th>\n",
       "      <td>VKS RF</td>\n",
       "      <td>216</td>\n",
       "    </tr>\n",
       "  </tbody>\n",
       "</table>\n",
       "</div>"
      ],
      "text/plain": [
       "            Company  count\n",
       "0         RVSN USSR   1777\n",
       "1              CASC    338\n",
       "2       Arianespace    293\n",
       "3  General Dynamics    251\n",
       "4            VKS RF    216"
      ]
     },
     "execution_count": 910,
     "metadata": {},
     "output_type": "execute_result"
    }
   ],
   "source": [
    "launches.head()"
   ]
  },
  {
   "cell_type": "code",
   "execution_count": 911,
   "id": "29f4ad96-eeba-401c-acf6-3bb6ec5482de",
   "metadata": {},
   "outputs": [
    {
     "data": {
      "text/html": [
       "<div>\n",
       "<style scoped>\n",
       "    .dataframe tbody tr th:only-of-type {\n",
       "        vertical-align: middle;\n",
       "    }\n",
       "\n",
       "    .dataframe tbody tr th {\n",
       "        vertical-align: top;\n",
       "    }\n",
       "\n",
       "    .dataframe thead th {\n",
       "        text-align: right;\n",
       "    }\n",
       "</style>\n",
       "<table border=\"1\" class=\"dataframe\">\n",
       "  <thead>\n",
       "    <tr style=\"text-align: right;\">\n",
       "      <th></th>\n",
       "      <th>Company</th>\n",
       "      <th>count</th>\n",
       "    </tr>\n",
       "  </thead>\n",
       "  <tbody>\n",
       "    <tr>\n",
       "      <th>0</th>\n",
       "      <td>RVSN USSR</td>\n",
       "      <td>1614</td>\n",
       "    </tr>\n",
       "    <tr>\n",
       "      <th>1</th>\n",
       "      <td>CASC</td>\n",
       "      <td>318</td>\n",
       "    </tr>\n",
       "    <tr>\n",
       "      <th>2</th>\n",
       "      <td>Arianespace</td>\n",
       "      <td>282</td>\n",
       "    </tr>\n",
       "    <tr>\n",
       "      <th>3</th>\n",
       "      <td>General Dynamics</td>\n",
       "      <td>203</td>\n",
       "    </tr>\n",
       "    <tr>\n",
       "      <th>4</th>\n",
       "      <td>VKS RF</td>\n",
       "      <td>202</td>\n",
       "    </tr>\n",
       "  </tbody>\n",
       "</table>\n",
       "</div>"
      ],
      "text/plain": [
       "            Company  count\n",
       "0         RVSN USSR   1614\n",
       "1              CASC    318\n",
       "2       Arianespace    282\n",
       "3  General Dynamics    203\n",
       "4            VKS RF    202"
      ]
     },
     "execution_count": 911,
     "metadata": {},
     "output_type": "execute_result"
    }
   ],
   "source": [
    "succes.head()"
   ]
  },
  {
   "cell_type": "code",
   "execution_count": 912,
   "id": "8dfb2784-d47a-4e06-8a63-1e81668cc963",
   "metadata": {},
   "outputs": [],
   "source": [
    "succes_rate = pd.merge(launches, succes, on= 'Company', how= 'left')"
   ]
  },
  {
   "cell_type": "code",
   "execution_count": 913,
   "id": "c9da48e2-fce8-4231-8627-3442646e86cd",
   "metadata": {},
   "outputs": [
    {
     "data": {
      "text/html": [
       "<div>\n",
       "<style scoped>\n",
       "    .dataframe tbody tr th:only-of-type {\n",
       "        vertical-align: middle;\n",
       "    }\n",
       "\n",
       "    .dataframe tbody tr th {\n",
       "        vertical-align: top;\n",
       "    }\n",
       "\n",
       "    .dataframe thead th {\n",
       "        text-align: right;\n",
       "    }\n",
       "</style>\n",
       "<table border=\"1\" class=\"dataframe\">\n",
       "  <thead>\n",
       "    <tr style=\"text-align: right;\">\n",
       "      <th></th>\n",
       "      <th>Company</th>\n",
       "      <th>count_x</th>\n",
       "      <th>count_y</th>\n",
       "    </tr>\n",
       "  </thead>\n",
       "  <tbody>\n",
       "    <tr>\n",
       "      <th>0</th>\n",
       "      <td>RVSN USSR</td>\n",
       "      <td>1777</td>\n",
       "      <td>1614.0</td>\n",
       "    </tr>\n",
       "    <tr>\n",
       "      <th>1</th>\n",
       "      <td>CASC</td>\n",
       "      <td>338</td>\n",
       "      <td>318.0</td>\n",
       "    </tr>\n",
       "    <tr>\n",
       "      <th>2</th>\n",
       "      <td>Arianespace</td>\n",
       "      <td>293</td>\n",
       "      <td>282.0</td>\n",
       "    </tr>\n",
       "    <tr>\n",
       "      <th>3</th>\n",
       "      <td>General Dynamics</td>\n",
       "      <td>251</td>\n",
       "      <td>203.0</td>\n",
       "    </tr>\n",
       "    <tr>\n",
       "      <th>4</th>\n",
       "      <td>VKS RF</td>\n",
       "      <td>216</td>\n",
       "      <td>202.0</td>\n",
       "    </tr>\n",
       "  </tbody>\n",
       "</table>\n",
       "</div>"
      ],
      "text/plain": [
       "            Company  count_x  count_y\n",
       "0         RVSN USSR     1777   1614.0\n",
       "1              CASC      338    318.0\n",
       "2       Arianespace      293    282.0\n",
       "3  General Dynamics      251    203.0\n",
       "4            VKS RF      216    202.0"
      ]
     },
     "execution_count": 913,
     "metadata": {},
     "output_type": "execute_result"
    }
   ],
   "source": [
    "succes_rate.head()"
   ]
  },
  {
   "cell_type": "code",
   "execution_count": 914,
   "id": "21111e2f-8e54-4c0f-9dbd-f7b0f128fe79",
   "metadata": {},
   "outputs": [],
   "source": [
    "succes_rate = succes_rate.rename(columns= {'count_x': 'Total Mission', 'count_y': 'Succes Mission'})"
   ]
  },
  {
   "cell_type": "code",
   "execution_count": 915,
   "id": "7f351aca-22aa-4603-b955-240210031c28",
   "metadata": {},
   "outputs": [
    {
     "data": {
      "text/html": [
       "<div>\n",
       "<style scoped>\n",
       "    .dataframe tbody tr th:only-of-type {\n",
       "        vertical-align: middle;\n",
       "    }\n",
       "\n",
       "    .dataframe tbody tr th {\n",
       "        vertical-align: top;\n",
       "    }\n",
       "\n",
       "    .dataframe thead th {\n",
       "        text-align: right;\n",
       "    }\n",
       "</style>\n",
       "<table border=\"1\" class=\"dataframe\">\n",
       "  <thead>\n",
       "    <tr style=\"text-align: right;\">\n",
       "      <th></th>\n",
       "      <th>Company</th>\n",
       "      <th>Total Mission</th>\n",
       "      <th>Succes Mission</th>\n",
       "    </tr>\n",
       "  </thead>\n",
       "  <tbody>\n",
       "    <tr>\n",
       "      <th>0</th>\n",
       "      <td>RVSN USSR</td>\n",
       "      <td>1777</td>\n",
       "      <td>1614.0</td>\n",
       "    </tr>\n",
       "    <tr>\n",
       "      <th>1</th>\n",
       "      <td>CASC</td>\n",
       "      <td>338</td>\n",
       "      <td>318.0</td>\n",
       "    </tr>\n",
       "    <tr>\n",
       "      <th>2</th>\n",
       "      <td>Arianespace</td>\n",
       "      <td>293</td>\n",
       "      <td>282.0</td>\n",
       "    </tr>\n",
       "    <tr>\n",
       "      <th>3</th>\n",
       "      <td>General Dynamics</td>\n",
       "      <td>251</td>\n",
       "      <td>203.0</td>\n",
       "    </tr>\n",
       "    <tr>\n",
       "      <th>4</th>\n",
       "      <td>VKS RF</td>\n",
       "      <td>216</td>\n",
       "      <td>202.0</td>\n",
       "    </tr>\n",
       "  </tbody>\n",
       "</table>\n",
       "</div>"
      ],
      "text/plain": [
       "            Company  Total Mission  Succes Mission\n",
       "0         RVSN USSR           1777          1614.0\n",
       "1              CASC            338           318.0\n",
       "2       Arianespace            293           282.0\n",
       "3  General Dynamics            251           203.0\n",
       "4            VKS RF            216           202.0"
      ]
     },
     "execution_count": 915,
     "metadata": {},
     "output_type": "execute_result"
    }
   ],
   "source": [
    "succes_rate.head()"
   ]
  },
  {
   "cell_type": "code",
   "execution_count": 916,
   "id": "84b6943c-73ab-47d6-97c1-cad08610f57a",
   "metadata": {},
   "outputs": [],
   "source": [
    "succes_rate['succes rate %'] = (succes_rate['Succes Mission'] / succes_rate['Total Mission']) * 100"
   ]
  },
  {
   "cell_type": "code",
   "execution_count": 917,
   "id": "8d25ba36-d553-4ac3-bef9-c68dbe9c0e2c",
   "metadata": {},
   "outputs": [
    {
     "data": {
      "text/html": [
       "<div>\n",
       "<style scoped>\n",
       "    .dataframe tbody tr th:only-of-type {\n",
       "        vertical-align: middle;\n",
       "    }\n",
       "\n",
       "    .dataframe tbody tr th {\n",
       "        vertical-align: top;\n",
       "    }\n",
       "\n",
       "    .dataframe thead th {\n",
       "        text-align: right;\n",
       "    }\n",
       "</style>\n",
       "<table border=\"1\" class=\"dataframe\">\n",
       "  <thead>\n",
       "    <tr style=\"text-align: right;\">\n",
       "      <th></th>\n",
       "      <th>Company</th>\n",
       "      <th>Total Mission</th>\n",
       "      <th>Succes Mission</th>\n",
       "      <th>succes rate %</th>\n",
       "    </tr>\n",
       "  </thead>\n",
       "  <tbody>\n",
       "    <tr>\n",
       "      <th>0</th>\n",
       "      <td>RVSN USSR</td>\n",
       "      <td>1777</td>\n",
       "      <td>1614.0</td>\n",
       "      <td>90.827237</td>\n",
       "    </tr>\n",
       "    <tr>\n",
       "      <th>1</th>\n",
       "      <td>CASC</td>\n",
       "      <td>338</td>\n",
       "      <td>318.0</td>\n",
       "      <td>94.082840</td>\n",
       "    </tr>\n",
       "    <tr>\n",
       "      <th>2</th>\n",
       "      <td>Arianespace</td>\n",
       "      <td>293</td>\n",
       "      <td>282.0</td>\n",
       "      <td>96.245734</td>\n",
       "    </tr>\n",
       "    <tr>\n",
       "      <th>3</th>\n",
       "      <td>General Dynamics</td>\n",
       "      <td>251</td>\n",
       "      <td>203.0</td>\n",
       "      <td>80.876494</td>\n",
       "    </tr>\n",
       "    <tr>\n",
       "      <th>4</th>\n",
       "      <td>VKS RF</td>\n",
       "      <td>216</td>\n",
       "      <td>202.0</td>\n",
       "      <td>93.518519</td>\n",
       "    </tr>\n",
       "    <tr>\n",
       "      <th>...</th>\n",
       "      <td>...</td>\n",
       "      <td>...</td>\n",
       "      <td>...</td>\n",
       "      <td>...</td>\n",
       "    </tr>\n",
       "    <tr>\n",
       "      <th>57</th>\n",
       "      <td>OneSpace</td>\n",
       "      <td>1</td>\n",
       "      <td>NaN</td>\n",
       "      <td>NaN</td>\n",
       "    </tr>\n",
       "    <tr>\n",
       "      <th>58</th>\n",
       "      <td>Douglas</td>\n",
       "      <td>1</td>\n",
       "      <td>1.0</td>\n",
       "      <td>100.000000</td>\n",
       "    </tr>\n",
       "    <tr>\n",
       "      <th>59</th>\n",
       "      <td>GK LS</td>\n",
       "      <td>1</td>\n",
       "      <td>1.0</td>\n",
       "      <td>100.000000</td>\n",
       "    </tr>\n",
       "    <tr>\n",
       "      <th>60</th>\n",
       "      <td>Firefly</td>\n",
       "      <td>1</td>\n",
       "      <td>NaN</td>\n",
       "      <td>NaN</td>\n",
       "    </tr>\n",
       "    <tr>\n",
       "      <th>61</th>\n",
       "      <td>CAS Space</td>\n",
       "      <td>1</td>\n",
       "      <td>1.0</td>\n",
       "      <td>100.000000</td>\n",
       "    </tr>\n",
       "  </tbody>\n",
       "</table>\n",
       "<p>62 rows × 4 columns</p>\n",
       "</div>"
      ],
      "text/plain": [
       "             Company  Total Mission  Succes Mission  succes rate %\n",
       "0          RVSN USSR           1777          1614.0      90.827237\n",
       "1               CASC            338           318.0      94.082840\n",
       "2        Arianespace            293           282.0      96.245734\n",
       "3   General Dynamics            251           203.0      80.876494\n",
       "4             VKS RF            216           202.0      93.518519\n",
       "..               ...            ...             ...            ...\n",
       "57          OneSpace              1             NaN            NaN\n",
       "58           Douglas              1             1.0     100.000000\n",
       "59             GK LS              1             1.0     100.000000\n",
       "60           Firefly              1             NaN            NaN\n",
       "61         CAS Space              1             1.0     100.000000\n",
       "\n",
       "[62 rows x 4 columns]"
      ]
     },
     "execution_count": 917,
     "metadata": {},
     "output_type": "execute_result"
    }
   ],
   "source": [
    "succes_rate"
   ]
  },
  {
   "cell_type": "code",
   "execution_count": 918,
   "id": "26864376-816b-47cc-9e4e-e6b7034a6178",
   "metadata": {},
   "outputs": [],
   "source": [
    "succes_rate2 = succes_rate[:15]"
   ]
  },
  {
   "cell_type": "code",
   "execution_count": 919,
   "id": "95103ed1-e964-473a-b1b3-e655b2c694f2",
   "metadata": {},
   "outputs": [
    {
     "data": {
      "text/html": [
       "<div>\n",
       "<style scoped>\n",
       "    .dataframe tbody tr th:only-of-type {\n",
       "        vertical-align: middle;\n",
       "    }\n",
       "\n",
       "    .dataframe tbody tr th {\n",
       "        vertical-align: top;\n",
       "    }\n",
       "\n",
       "    .dataframe thead th {\n",
       "        text-align: right;\n",
       "    }\n",
       "</style>\n",
       "<table border=\"1\" class=\"dataframe\">\n",
       "  <thead>\n",
       "    <tr style=\"text-align: right;\">\n",
       "      <th></th>\n",
       "      <th>Company</th>\n",
       "      <th>Total Mission</th>\n",
       "      <th>Succes Mission</th>\n",
       "      <th>succes rate %</th>\n",
       "    </tr>\n",
       "  </thead>\n",
       "  <tbody>\n",
       "    <tr>\n",
       "      <th>0</th>\n",
       "      <td>RVSN USSR</td>\n",
       "      <td>1777</td>\n",
       "      <td>1614.0</td>\n",
       "      <td>90.827237</td>\n",
       "    </tr>\n",
       "    <tr>\n",
       "      <th>1</th>\n",
       "      <td>CASC</td>\n",
       "      <td>338</td>\n",
       "      <td>318.0</td>\n",
       "      <td>94.082840</td>\n",
       "    </tr>\n",
       "    <tr>\n",
       "      <th>2</th>\n",
       "      <td>Arianespace</td>\n",
       "      <td>293</td>\n",
       "      <td>282.0</td>\n",
       "      <td>96.245734</td>\n",
       "    </tr>\n",
       "    <tr>\n",
       "      <th>3</th>\n",
       "      <td>General Dynamics</td>\n",
       "      <td>251</td>\n",
       "      <td>203.0</td>\n",
       "      <td>80.876494</td>\n",
       "    </tr>\n",
       "    <tr>\n",
       "      <th>4</th>\n",
       "      <td>VKS RF</td>\n",
       "      <td>216</td>\n",
       "      <td>202.0</td>\n",
       "      <td>93.518519</td>\n",
       "    </tr>\n",
       "    <tr>\n",
       "      <th>5</th>\n",
       "      <td>NASA</td>\n",
       "      <td>203</td>\n",
       "      <td>186.0</td>\n",
       "      <td>91.625616</td>\n",
       "    </tr>\n",
       "    <tr>\n",
       "      <th>6</th>\n",
       "      <td>SpaceX</td>\n",
       "      <td>182</td>\n",
       "      <td>172.0</td>\n",
       "      <td>94.505495</td>\n",
       "    </tr>\n",
       "    <tr>\n",
       "      <th>7</th>\n",
       "      <td>US Air Force</td>\n",
       "      <td>161</td>\n",
       "      <td>129.0</td>\n",
       "      <td>80.124224</td>\n",
       "    </tr>\n",
       "    <tr>\n",
       "      <th>8</th>\n",
       "      <td>ULA</td>\n",
       "      <td>151</td>\n",
       "      <td>150.0</td>\n",
       "      <td>99.337748</td>\n",
       "    </tr>\n",
       "    <tr>\n",
       "      <th>9</th>\n",
       "      <td>Boeing</td>\n",
       "      <td>136</td>\n",
       "      <td>131.0</td>\n",
       "      <td>96.323529</td>\n",
       "    </tr>\n",
       "    <tr>\n",
       "      <th>10</th>\n",
       "      <td>Martin Marietta</td>\n",
       "      <td>114</td>\n",
       "      <td>100.0</td>\n",
       "      <td>87.719298</td>\n",
       "    </tr>\n",
       "    <tr>\n",
       "      <th>11</th>\n",
       "      <td>Northrop</td>\n",
       "      <td>89</td>\n",
       "      <td>80.0</td>\n",
       "      <td>89.887640</td>\n",
       "    </tr>\n",
       "    <tr>\n",
       "      <th>12</th>\n",
       "      <td>MHI</td>\n",
       "      <td>87</td>\n",
       "      <td>83.0</td>\n",
       "      <td>95.402299</td>\n",
       "    </tr>\n",
       "    <tr>\n",
       "      <th>13</th>\n",
       "      <td>ISRO</td>\n",
       "      <td>82</td>\n",
       "      <td>68.0</td>\n",
       "      <td>82.926829</td>\n",
       "    </tr>\n",
       "    <tr>\n",
       "      <th>14</th>\n",
       "      <td>Lockheed</td>\n",
       "      <td>79</td>\n",
       "      <td>74.0</td>\n",
       "      <td>93.670886</td>\n",
       "    </tr>\n",
       "  </tbody>\n",
       "</table>\n",
       "</div>"
      ],
      "text/plain": [
       "             Company  Total Mission  Succes Mission  succes rate %\n",
       "0          RVSN USSR           1777          1614.0      90.827237\n",
       "1               CASC            338           318.0      94.082840\n",
       "2        Arianespace            293           282.0      96.245734\n",
       "3   General Dynamics            251           203.0      80.876494\n",
       "4             VKS RF            216           202.0      93.518519\n",
       "5               NASA            203           186.0      91.625616\n",
       "6             SpaceX            182           172.0      94.505495\n",
       "7       US Air Force            161           129.0      80.124224\n",
       "8                ULA            151           150.0      99.337748\n",
       "9             Boeing            136           131.0      96.323529\n",
       "10   Martin Marietta            114           100.0      87.719298\n",
       "11          Northrop             89            80.0      89.887640\n",
       "12               MHI             87            83.0      95.402299\n",
       "13              ISRO             82            68.0      82.926829\n",
       "14          Lockheed             79            74.0      93.670886"
      ]
     },
     "execution_count": 919,
     "metadata": {},
     "output_type": "execute_result"
    }
   ],
   "source": [
    "succes_rate2"
   ]
  },
  {
   "cell_type": "code",
   "execution_count": 920,
   "id": "80f587a5-7ec7-46be-bd79-351756a5ea22",
   "metadata": {},
   "outputs": [
    {
     "data": {
      "image/png": "[encoded data removed]",
      "text/plain": [
       "<Figure size 640x480 with 1 Axes>"
      ]
     },
     "metadata": {},
     "output_type": "display_data"
    }
   ],
   "source": [
    "sns.barplot(x= 'Company', y= 'succes rate %', data= succes_rate2)\n",
    "plt.xticks(rotation= 90)\n",
    "plt.show()"
   ]
  },
  {
   "cell_type": "code",
   "execution_count": 921,
   "id": "0708aca1-2368-4bbc-ac1e-c64498ed542c",
   "metadata": {},
   "outputs": [
    {
     "data": {
      "image/png": "[encoded data removed]",
      "text/plain": [
       "<Figure size 640x480 with 1 Axes>"
      ]
     },
     "metadata": {},
     "output_type": "display_data"
    }
   ],
   "source": [
    "plt.barh(succes_rate2['Company'], succes_rate2['succes rate %'])\n",
    "plt.show()"
   ]
  },
  {
   "cell_type": "markdown",
   "id": "c4cc3858-e771-4283-ae7e-97ca485fc7ae",
   "metadata": {},
   "source": [
    "# Q4: What is the trend of mission success rates over time?"
   ]
  },
  {
   "cell_type": "code",
   "execution_count": 923,
   "id": "a74b4d43-9e66-43cf-b23f-a71d0bdedea0",
   "metadata": {},
   "outputs": [],
   "source": [
    "df['Date'] = pd.to_datetime(df['Date'])"
   ]
  },
  {
   "cell_type": "code",
   "execution_count": 924,
   "id": "f05b36d4-d67d-44e3-82b6-b86da6529a29",
   "metadata": {},
   "outputs": [],
   "source": [
    "df['Year'] = df['Date'].dt.year"
   ]
  },
  {
   "cell_type": "code",
   "execution_count": 925,
   "id": "381b04d6-2bd0-4f97-ba0b-b59b6c71b3c9",
   "metadata": {},
   "outputs": [
    {
     "data": {
      "text/html": [
       "<div>\n",
       "<style scoped>\n",
       "    .dataframe tbody tr th:only-of-type {\n",
       "        vertical-align: middle;\n",
       "    }\n",
       "\n",
       "    .dataframe tbody tr th {\n",
       "        vertical-align: top;\n",
       "    }\n",
       "\n",
       "    .dataframe thead th {\n",
       "        text-align: right;\n",
       "    }\n",
       "</style>\n",
       "<table border=\"1\" class=\"dataframe\">\n",
       "  <thead>\n",
       "    <tr style=\"text-align: right;\">\n",
       "      <th></th>\n",
       "      <th>Year</th>\n",
       "      <th>count</th>\n",
       "    </tr>\n",
       "  </thead>\n",
       "  <tbody>\n",
       "    <tr>\n",
       "      <th>0</th>\n",
       "      <td>2021</td>\n",
       "      <td>157</td>\n",
       "    </tr>\n",
       "    <tr>\n",
       "      <th>1</th>\n",
       "      <td>2020</td>\n",
       "      <td>119</td>\n",
       "    </tr>\n",
       "    <tr>\n",
       "      <th>2</th>\n",
       "      <td>1971</td>\n",
       "      <td>119</td>\n",
       "    </tr>\n",
       "    <tr>\n",
       "      <th>3</th>\n",
       "      <td>2018</td>\n",
       "      <td>117</td>\n",
       "    </tr>\n",
       "    <tr>\n",
       "      <th>4</th>\n",
       "      <td>1977</td>\n",
       "      <td>114</td>\n",
       "    </tr>\n",
       "  </tbody>\n",
       "</table>\n",
       "</div>"
      ],
      "text/plain": [
       "   Year  count\n",
       "0  2021    157\n",
       "1  2020    119\n",
       "2  1971    119\n",
       "3  2018    117\n",
       "4  1977    114"
      ]
     },
     "execution_count": 925,
     "metadata": {},
     "output_type": "execute_result"
    }
   ],
   "source": [
    "total_M_per_year = df['Year'].value_counts().reset_index()\n",
    "total_M_per_year.head()"
   ]
  },
  {
   "cell_type": "code",
   "execution_count": 926,
   "id": "e5561394-02b5-4b25-96ec-0db8d64a54ad",
   "metadata": {},
   "outputs": [
    {
     "data": {
      "text/html": [
       "<div>\n",
       "<style scoped>\n",
       "    .dataframe tbody tr th:only-of-type {\n",
       "        vertical-align: middle;\n",
       "    }\n",
       "\n",
       "    .dataframe tbody tr th {\n",
       "        vertical-align: top;\n",
       "    }\n",
       "\n",
       "    .dataframe thead th {\n",
       "        text-align: right;\n",
       "    }\n",
       "</style>\n",
       "<table border=\"1\" class=\"dataframe\">\n",
       "  <thead>\n",
       "    <tr style=\"text-align: right;\">\n",
       "      <th></th>\n",
       "      <th>Year</th>\n",
       "      <th>Total Missions</th>\n",
       "    </tr>\n",
       "  </thead>\n",
       "  <tbody>\n",
       "    <tr>\n",
       "      <th>0</th>\n",
       "      <td>2021</td>\n",
       "      <td>157</td>\n",
       "    </tr>\n",
       "    <tr>\n",
       "      <th>1</th>\n",
       "      <td>2020</td>\n",
       "      <td>119</td>\n",
       "    </tr>\n",
       "    <tr>\n",
       "      <th>2</th>\n",
       "      <td>1971</td>\n",
       "      <td>119</td>\n",
       "    </tr>\n",
       "    <tr>\n",
       "      <th>3</th>\n",
       "      <td>2018</td>\n",
       "      <td>117</td>\n",
       "    </tr>\n",
       "    <tr>\n",
       "      <th>4</th>\n",
       "      <td>1977</td>\n",
       "      <td>114</td>\n",
       "    </tr>\n",
       "  </tbody>\n",
       "</table>\n",
       "</div>"
      ],
      "text/plain": [
       "   Year  Total Missions\n",
       "0  2021             157\n",
       "1  2020             119\n",
       "2  1971             119\n",
       "3  2018             117\n",
       "4  1977             114"
      ]
     },
     "execution_count": 926,
     "metadata": {},
     "output_type": "execute_result"
    }
   ],
   "source": [
    "total_M_per_year.columns = ['Year', 'Total Missions']\n",
    "total_M_per_year.head()"
   ]
  },
  {
   "cell_type": "code",
   "execution_count": 927,
   "id": "4e45367d-d091-4a6e-a665-4d322b0ecc48",
   "metadata": {},
   "outputs": [
    {
     "data": {
      "text/html": [
       "<div>\n",
       "<style scoped>\n",
       "    .dataframe tbody tr th:only-of-type {\n",
       "        vertical-align: middle;\n",
       "    }\n",
       "\n",
       "    .dataframe tbody tr th {\n",
       "        vertical-align: top;\n",
       "    }\n",
       "\n",
       "    .dataframe thead th {\n",
       "        text-align: right;\n",
       "    }\n",
       "</style>\n",
       "<table border=\"1\" class=\"dataframe\">\n",
       "  <thead>\n",
       "    <tr style=\"text-align: right;\">\n",
       "      <th></th>\n",
       "      <th>Year</th>\n",
       "      <th>count</th>\n",
       "    </tr>\n",
       "  </thead>\n",
       "  <tbody>\n",
       "    <tr>\n",
       "      <th>0</th>\n",
       "      <td>2021</td>\n",
       "      <td>143</td>\n",
       "    </tr>\n",
       "    <tr>\n",
       "      <th>1</th>\n",
       "      <td>2018</td>\n",
       "      <td>113</td>\n",
       "    </tr>\n",
       "    <tr>\n",
       "      <th>2</th>\n",
       "      <td>1977</td>\n",
       "      <td>110</td>\n",
       "    </tr>\n",
       "    <tr>\n",
       "      <th>3</th>\n",
       "      <td>1976</td>\n",
       "      <td>108</td>\n",
       "    </tr>\n",
       "    <tr>\n",
       "      <th>4</th>\n",
       "      <td>2020</td>\n",
       "      <td>107</td>\n",
       "    </tr>\n",
       "  </tbody>\n",
       "</table>\n",
       "</div>"
      ],
      "text/plain": [
       "   Year  count\n",
       "0  2021    143\n",
       "1  2018    113\n",
       "2  1977    110\n",
       "3  1976    108\n",
       "4  2020    107"
      ]
     },
     "execution_count": 927,
     "metadata": {},
     "output_type": "execute_result"
    }
   ],
   "source": [
    "success_M_per_year = df[df['MissionStatus'] == 'Success']['Year'].value_counts().reset_index()\n",
    "success_M_per_year.head()"
   ]
  },
  {
   "cell_type": "code",
   "execution_count": 928,
   "id": "d7cc75e9-2b7e-4733-b537-b8578be43b22",
   "metadata": {},
   "outputs": [
    {
     "data": {
      "text/html": [
       "<div>\n",
       "<style scoped>\n",
       "    .dataframe tbody tr th:only-of-type {\n",
       "        vertical-align: middle;\n",
       "    }\n",
       "\n",
       "    .dataframe tbody tr th {\n",
       "        vertical-align: top;\n",
       "    }\n",
       "\n",
       "    .dataframe thead th {\n",
       "        text-align: right;\n",
       "    }\n",
       "</style>\n",
       "<table border=\"1\" class=\"dataframe\">\n",
       "  <thead>\n",
       "    <tr style=\"text-align: right;\">\n",
       "      <th></th>\n",
       "      <th>Year</th>\n",
       "      <th>Success Missions</th>\n",
       "    </tr>\n",
       "  </thead>\n",
       "  <tbody>\n",
       "    <tr>\n",
       "      <th>0</th>\n",
       "      <td>2021</td>\n",
       "      <td>143</td>\n",
       "    </tr>\n",
       "    <tr>\n",
       "      <th>1</th>\n",
       "      <td>2018</td>\n",
       "      <td>113</td>\n",
       "    </tr>\n",
       "    <tr>\n",
       "      <th>2</th>\n",
       "      <td>1977</td>\n",
       "      <td>110</td>\n",
       "    </tr>\n",
       "    <tr>\n",
       "      <th>3</th>\n",
       "      <td>1976</td>\n",
       "      <td>108</td>\n",
       "    </tr>\n",
       "    <tr>\n",
       "      <th>4</th>\n",
       "      <td>2020</td>\n",
       "      <td>107</td>\n",
       "    </tr>\n",
       "  </tbody>\n",
       "</table>\n",
       "</div>"
      ],
      "text/plain": [
       "   Year  Success Missions\n",
       "0  2021               143\n",
       "1  2018               113\n",
       "2  1977               110\n",
       "3  1976               108\n",
       "4  2020               107"
      ]
     },
     "execution_count": 928,
     "metadata": {},
     "output_type": "execute_result"
    }
   ],
   "source": [
    "success_M_per_year.columns = ['Year', 'Success Missions']\n",
    "success_M_per_year.head()"
   ]
  },
  {
   "cell_type": "code",
   "execution_count": 929,
   "id": "fe0fd113-f858-4e10-b33a-59b39d903b0d",
   "metadata": {},
   "outputs": [],
   "source": [
    "success_rate_per_year = pd.merge(total_M_per_year, success_M_per_year, on= 'Year', how= 'left')"
   ]
  },
  {
   "cell_type": "code",
   "execution_count": 930,
   "id": "53d1797b-d483-4d41-b419-cab103a703be",
   "metadata": {},
   "outputs": [
    {
     "data": {
      "text/html": [
       "<div>\n",
       "<style scoped>\n",
       "    .dataframe tbody tr th:only-of-type {\n",
       "        vertical-align: middle;\n",
       "    }\n",
       "\n",
       "    .dataframe tbody tr th {\n",
       "        vertical-align: top;\n",
       "    }\n",
       "\n",
       "    .dataframe thead th {\n",
       "        text-align: right;\n",
       "    }\n",
       "</style>\n",
       "<table border=\"1\" class=\"dataframe\">\n",
       "  <thead>\n",
       "    <tr style=\"text-align: right;\">\n",
       "      <th></th>\n",
       "      <th>Year</th>\n",
       "      <th>Total Missions</th>\n",
       "      <th>Success Missions</th>\n",
       "    </tr>\n",
       "  </thead>\n",
       "  <tbody>\n",
       "    <tr>\n",
       "      <th>0</th>\n",
       "      <td>2021</td>\n",
       "      <td>157</td>\n",
       "      <td>143</td>\n",
       "    </tr>\n",
       "    <tr>\n",
       "      <th>1</th>\n",
       "      <td>2020</td>\n",
       "      <td>119</td>\n",
       "      <td>107</td>\n",
       "    </tr>\n",
       "    <tr>\n",
       "      <th>2</th>\n",
       "      <td>1971</td>\n",
       "      <td>119</td>\n",
       "      <td>105</td>\n",
       "    </tr>\n",
       "    <tr>\n",
       "      <th>3</th>\n",
       "      <td>2018</td>\n",
       "      <td>117</td>\n",
       "      <td>113</td>\n",
       "    </tr>\n",
       "    <tr>\n",
       "      <th>4</th>\n",
       "      <td>1977</td>\n",
       "      <td>114</td>\n",
       "      <td>110</td>\n",
       "    </tr>\n",
       "  </tbody>\n",
       "</table>\n",
       "</div>"
      ],
      "text/plain": [
       "   Year  Total Missions  Success Missions\n",
       "0  2021             157               143\n",
       "1  2020             119               107\n",
       "2  1971             119               105\n",
       "3  2018             117               113\n",
       "4  1977             114               110"
      ]
     },
     "execution_count": 930,
     "metadata": {},
     "output_type": "execute_result"
    }
   ],
   "source": [
    "success_rate_per_year.head()"
   ]
  },
  {
   "cell_type": "code",
   "execution_count": 931,
   "id": "ee0cafb3-58bb-456c-bd1f-146027aa4194",
   "metadata": {},
   "outputs": [],
   "source": [
    "success_rate_per_year['Success rate %'] = (success_rate_per_year['Success Missions'] / success_rate_per_year['Total Missions']) * 100"
   ]
  },
  {
   "cell_type": "code",
   "execution_count": 932,
   "id": "74cd1273-f4f8-428a-a644-1ae766e676dc",
   "metadata": {},
   "outputs": [
    {
     "data": {
      "text/html": [
       "<div>\n",
       "<style scoped>\n",
       "    .dataframe tbody tr th:only-of-type {\n",
       "        vertical-align: middle;\n",
       "    }\n",
       "\n",
       "    .dataframe tbody tr th {\n",
       "        vertical-align: top;\n",
       "    }\n",
       "\n",
       "    .dataframe thead th {\n",
       "        text-align: right;\n",
       "    }\n",
       "</style>\n",
       "<table border=\"1\" class=\"dataframe\">\n",
       "  <thead>\n",
       "    <tr style=\"text-align: right;\">\n",
       "      <th></th>\n",
       "      <th>Year</th>\n",
       "      <th>Total Missions</th>\n",
       "      <th>Success Missions</th>\n",
       "      <th>Success rate %</th>\n",
       "    </tr>\n",
       "  </thead>\n",
       "  <tbody>\n",
       "    <tr>\n",
       "      <th>0</th>\n",
       "      <td>2021</td>\n",
       "      <td>157</td>\n",
       "      <td>143</td>\n",
       "      <td>91.082803</td>\n",
       "    </tr>\n",
       "    <tr>\n",
       "      <th>1</th>\n",
       "      <td>2020</td>\n",
       "      <td>119</td>\n",
       "      <td>107</td>\n",
       "      <td>89.915966</td>\n",
       "    </tr>\n",
       "    <tr>\n",
       "      <th>2</th>\n",
       "      <td>1971</td>\n",
       "      <td>119</td>\n",
       "      <td>105</td>\n",
       "      <td>88.235294</td>\n",
       "    </tr>\n",
       "    <tr>\n",
       "      <th>3</th>\n",
       "      <td>2018</td>\n",
       "      <td>117</td>\n",
       "      <td>113</td>\n",
       "      <td>96.581197</td>\n",
       "    </tr>\n",
       "    <tr>\n",
       "      <th>4</th>\n",
       "      <td>1977</td>\n",
       "      <td>114</td>\n",
       "      <td>110</td>\n",
       "      <td>96.491228</td>\n",
       "    </tr>\n",
       "  </tbody>\n",
       "</table>\n",
       "</div>"
      ],
      "text/plain": [
       "   Year  Total Missions  Success Missions  Success rate %\n",
       "0  2021             157               143       91.082803\n",
       "1  2020             119               107       89.915966\n",
       "2  1971             119               105       88.235294\n",
       "3  2018             117               113       96.581197\n",
       "4  1977             114               110       96.491228"
      ]
     },
     "execution_count": 932,
     "metadata": {},
     "output_type": "execute_result"
    }
   ],
   "source": [
    "success_rate_per_year.head()"
   ]
  },
  {
   "cell_type": "code",
   "execution_count": 933,
   "id": "ace0054c-cfbc-44eb-997f-0a7e4ee2ed02",
   "metadata": {},
   "outputs": [
    {
     "data": {
      "text/html": [
       "<div>\n",
       "<style scoped>\n",
       "    .dataframe tbody tr th:only-of-type {\n",
       "        vertical-align: middle;\n",
       "    }\n",
       "\n",
       "    .dataframe tbody tr th {\n",
       "        vertical-align: top;\n",
       "    }\n",
       "\n",
       "    .dataframe thead th {\n",
       "        text-align: right;\n",
       "    }\n",
       "</style>\n",
       "<table border=\"1\" class=\"dataframe\">\n",
       "  <thead>\n",
       "    <tr style=\"text-align: right;\">\n",
       "      <th></th>\n",
       "      <th>Year</th>\n",
       "      <th>Total Missions</th>\n",
       "      <th>Success Missions</th>\n",
       "      <th>Success rate %</th>\n",
       "    </tr>\n",
       "  </thead>\n",
       "  <tbody>\n",
       "    <tr>\n",
       "      <th>65</th>\n",
       "      <td>1957</td>\n",
       "      <td>3</td>\n",
       "      <td>2</td>\n",
       "      <td>66.666667</td>\n",
       "    </tr>\n",
       "    <tr>\n",
       "      <th>63</th>\n",
       "      <td>1958</td>\n",
       "      <td>28</td>\n",
       "      <td>6</td>\n",
       "      <td>21.428571</td>\n",
       "    </tr>\n",
       "    <tr>\n",
       "      <th>64</th>\n",
       "      <td>1959</td>\n",
       "      <td>20</td>\n",
       "      <td>8</td>\n",
       "      <td>40.000000</td>\n",
       "    </tr>\n",
       "    <tr>\n",
       "      <th>59</th>\n",
       "      <td>1960</td>\n",
       "      <td>39</td>\n",
       "      <td>19</td>\n",
       "      <td>48.717949</td>\n",
       "    </tr>\n",
       "    <tr>\n",
       "      <th>44</th>\n",
       "      <td>1961</td>\n",
       "      <td>52</td>\n",
       "      <td>32</td>\n",
       "      <td>61.538462</td>\n",
       "    </tr>\n",
       "  </tbody>\n",
       "</table>\n",
       "</div>"
      ],
      "text/plain": [
       "    Year  Total Missions  Success Missions  Success rate %\n",
       "65  1957               3                 2       66.666667\n",
       "63  1958              28                 6       21.428571\n",
       "64  1959              20                 8       40.000000\n",
       "59  1960              39                19       48.717949\n",
       "44  1961              52                32       61.538462"
      ]
     },
     "execution_count": 933,
     "metadata": {},
     "output_type": "execute_result"
    }
   ],
   "source": [
    "success_rate_per_year = success_rate_per_year.sort_values(by= 'Year')\n",
    "success_rate_per_year.head()"
   ]
  },
  {
   "cell_type": "code",
   "execution_count": 934,
   "id": "3a81532e-33ca-4138-a8be-813a0de7a892",
   "metadata": {},
   "outputs": [
    {
     "data": {
      "image/png": "[encoded data removed]",
      "text/plain": [
       "<Figure size 640x480 with 1 Axes>"
      ]
     },
     "metadata": {},
     "output_type": "display_data"
    }
   ],
   "source": [
    "plt.plot(success_rate_per_year['Year'], success_rate_per_year['Success rate %'], marker= 'o')\n",
    "\n",
    "plt.title('trend of mission success rates over time')\n",
    "plt.xlabel('Year')\n",
    "plt.ylabel('Success rate %')\n",
    "plt.show()"
   ]
  },
  {
   "cell_type": "markdown",
   "id": "3bbe2325-820b-44d5-a986-22cc43e55876",
   "metadata": {},
   "source": [
    "# Q5: How has the number of space missions evolved over the years?"
   ]
  },
  {
   "cell_type": "code",
   "execution_count": 936,
   "id": "0eb2141c-7bc6-4d07-ad32-ea8599a30f9d",
   "metadata": {},
   "outputs": [
    {
     "data": {
      "text/html": [
       "<div>\n",
       "<style scoped>\n",
       "    .dataframe tbody tr th:only-of-type {\n",
       "        vertical-align: middle;\n",
       "    }\n",
       "\n",
       "    .dataframe tbody tr th {\n",
       "        vertical-align: top;\n",
       "    }\n",
       "\n",
       "    .dataframe thead th {\n",
       "        text-align: right;\n",
       "    }\n",
       "</style>\n",
       "<table border=\"1\" class=\"dataframe\">\n",
       "  <thead>\n",
       "    <tr style=\"text-align: right;\">\n",
       "      <th></th>\n",
       "      <th>Year</th>\n",
       "      <th>Total Missions</th>\n",
       "    </tr>\n",
       "  </thead>\n",
       "  <tbody>\n",
       "    <tr>\n",
       "      <th>0</th>\n",
       "      <td>2021</td>\n",
       "      <td>157</td>\n",
       "    </tr>\n",
       "    <tr>\n",
       "      <th>1</th>\n",
       "      <td>2020</td>\n",
       "      <td>119</td>\n",
       "    </tr>\n",
       "    <tr>\n",
       "      <th>2</th>\n",
       "      <td>1971</td>\n",
       "      <td>119</td>\n",
       "    </tr>\n",
       "    <tr>\n",
       "      <th>3</th>\n",
       "      <td>2018</td>\n",
       "      <td>117</td>\n",
       "    </tr>\n",
       "    <tr>\n",
       "      <th>4</th>\n",
       "      <td>1977</td>\n",
       "      <td>114</td>\n",
       "    </tr>\n",
       "  </tbody>\n",
       "</table>\n",
       "</div>"
      ],
      "text/plain": [
       "   Year  Total Missions\n",
       "0  2021             157\n",
       "1  2020             119\n",
       "2  1971             119\n",
       "3  2018             117\n",
       "4  1977             114"
      ]
     },
     "execution_count": 936,
     "metadata": {},
     "output_type": "execute_result"
    }
   ],
   "source": [
    "total_M_per_year.head()"
   ]
  },
  {
   "cell_type": "code",
   "execution_count": 937,
   "id": "fec53176-d1db-4724-8314-4f244c479153",
   "metadata": {},
   "outputs": [
    {
     "data": {
      "image/png": "[encoded data removed]",
      "text/plain": [
       "<Figure size 640x480 with 1 Axes>"
      ]
     },
     "metadata": {},
     "output_type": "display_data"
    }
   ],
   "source": [
    "plt.plot(total_M_per_year['Year'], total_M_per_year['Total Missions'], marker= 'o')\n",
    "plt.show()"
   ]
  },
  {
   "cell_type": "code",
   "execution_count": 938,
   "id": "8a3c2df4-5007-49b0-b851-81560c974e44",
   "metadata": {},
   "outputs": [
    {
     "data": {
      "text/plain": [
       "<BarContainer object of 66 artists>"
      ]
     },
     "execution_count": 938,
     "metadata": {},
     "output_type": "execute_result"
    },
    {
     "data": {
      "image/png": "[encoded data removed]",
      "text/plain": [
       "<Figure size 640x480 with 1 Axes>"
      ]
     },
     "metadata": {},
     "output_type": "display_data"
    }
   ],
   "source": [
    "plt.bar(total_M_per_year['Year'], total_M_per_year['Total Missions'])"
   ]
  },
  {
   "cell_type": "markdown",
   "id": "23d18e64-904f-4fec-bfc3-df82d4ac3e03",
   "metadata": {},
   "source": [
    "# Q6: Which year had the most space missions?"
   ]
  },
  {
   "cell_type": "code",
   "execution_count": 940,
   "id": "93672636-f92a-48ef-8c65-e8cd531823ae",
   "metadata": {},
   "outputs": [],
   "source": [
    "year_with_most_mission = total_M_per_year.loc[total_M_per_year['Total Missions'].idxmax()]"
   ]
  },
  {
   "cell_type": "code",
   "execution_count": 941,
   "id": "59a3f4d3-c7bc-4e87-9f0f-1ff48287b5a5",
   "metadata": {},
   "outputs": [
    {
     "data": {
      "text/plain": [
       "Year              2021\n",
       "Total Missions     157\n",
       "Name: 0, dtype: int64"
      ]
     },
     "execution_count": 941,
     "metadata": {},
     "output_type": "execute_result"
    }
   ],
   "source": [
    "year_with_most_mission"
   ]
  },
  {
   "cell_type": "markdown",
   "id": "ec07d234-0f7f-463d-954d-6a39a56163a2",
   "metadata": {},
   "source": [
    "# Q7:Which countries have launched the most space missions?"
   ]
  },
  {
   "cell_type": "code",
   "execution_count": 943,
   "id": "be6a2594-7135-4f50-9776-f89405522d34",
   "metadata": {},
   "outputs": [],
   "source": [
    "mission_by_company = df['Company'].value_counts().reset_index()\n",
    "\n",
    "mission_by_company.columns = ['Company', 'Number of Missions']"
   ]
  },
  {
   "cell_type": "code",
   "execution_count": 944,
   "id": "a307fa50-92bf-4c13-8f78-c344523939bd",
   "metadata": {},
   "outputs": [
    {
     "data": {
      "text/html": [
       "<div>\n",
       "<style scoped>\n",
       "    .dataframe tbody tr th:only-of-type {\n",
       "        vertical-align: middle;\n",
       "    }\n",
       "\n",
       "    .dataframe tbody tr th {\n",
       "        vertical-align: top;\n",
       "    }\n",
       "\n",
       "    .dataframe thead th {\n",
       "        text-align: right;\n",
       "    }\n",
       "</style>\n",
       "<table border=\"1\" class=\"dataframe\">\n",
       "  <thead>\n",
       "    <tr style=\"text-align: right;\">\n",
       "      <th></th>\n",
       "      <th>Company</th>\n",
       "      <th>Number of Missions</th>\n",
       "    </tr>\n",
       "  </thead>\n",
       "  <tbody>\n",
       "    <tr>\n",
       "      <th>0</th>\n",
       "      <td>RVSN USSR</td>\n",
       "      <td>1777</td>\n",
       "    </tr>\n",
       "    <tr>\n",
       "      <th>1</th>\n",
       "      <td>CASC</td>\n",
       "      <td>338</td>\n",
       "    </tr>\n",
       "    <tr>\n",
       "      <th>2</th>\n",
       "      <td>Arianespace</td>\n",
       "      <td>293</td>\n",
       "    </tr>\n",
       "    <tr>\n",
       "      <th>3</th>\n",
       "      <td>General Dynamics</td>\n",
       "      <td>251</td>\n",
       "    </tr>\n",
       "    <tr>\n",
       "      <th>4</th>\n",
       "      <td>VKS RF</td>\n",
       "      <td>216</td>\n",
       "    </tr>\n",
       "  </tbody>\n",
       "</table>\n",
       "</div>"
      ],
      "text/plain": [
       "            Company  Number of Missions\n",
       "0         RVSN USSR                1777\n",
       "1              CASC                 338\n",
       "2       Arianespace                 293\n",
       "3  General Dynamics                 251\n",
       "4            VKS RF                 216"
      ]
     },
     "execution_count": 944,
     "metadata": {},
     "output_type": "execute_result"
    }
   ],
   "source": [
    "mission_by_company.head()"
   ]
  },
  {
   "cell_type": "code",
   "execution_count": 945,
   "id": "2a4ea4b2-9987-4206-9e8a-ad999ff89e16",
   "metadata": {},
   "outputs": [],
   "source": [
    "top_company = mission_by_company.loc[mission_by_company['Number of Missions'].idxmax()]"
   ]
  },
  {
   "cell_type": "code",
   "execution_count": 946,
   "id": "59f2d38b-c0d1-442b-aca9-fcab0c111d11",
   "metadata": {},
   "outputs": [
    {
     "data": {
      "text/plain": [
       "Company               RVSN USSR\n",
       "Number of Missions         1777\n",
       "Name: 0, dtype: object"
      ]
     },
     "execution_count": 946,
     "metadata": {},
     "output_type": "execute_result"
    }
   ],
   "source": [
    "top_company"
   ]
  },
  {
   "cell_type": "code",
   "execution_count": 947,
   "id": "a6d1a3ff-7886-4381-8e7e-daf9880bbc8a",
   "metadata": {},
   "outputs": [
    {
     "data": {
      "image/png": "[encoded data removed]",
      "text/plain": [
       "<Figure size 640x480 with 1 Axes>"
      ]
     },
     "metadata": {},
     "output_type": "display_data"
    }
   ],
   "source": [
    "plt.bar(mission_by_company['Company'][:15], mission_by_company['Number of Missions'][:15])\n",
    "plt.xticks(rotation= 90)\n",
    "plt.show()"
   ]
  },
  {
   "cell_type": "markdown",
   "id": "b0787edc-002f-4616-bc61-8c0ba134ec33",
   "metadata": {},
   "source": []
  },
  {
   "cell_type": "markdown",
   "id": "22a7e791-cdaf-4c30-835c-8b606125cb19",
   "metadata": {},
   "source": [
    "# Q8: What is the average cost of a space mission, and how does it vary by Company?"
   ]
  },
  {
   "cell_type": "code",
   "execution_count": 950,
   "id": "3a8aa6cd-a096-4f10-a98f-72c1c0c1f87a",
   "metadata": {},
   "outputs": [
    {
     "name": "stdout",
     "output_type": "stream",
     "text": [
      "<class 'pandas.core.series.Series'>\n",
      "RangeIndex: 4630 entries, 0 to 4629\n",
      "Series name: Price\n",
      "Non-Null Count  Dtype \n",
      "--------------  ----- \n",
      "1265 non-null   object\n",
      "dtypes: object(1)\n",
      "memory usage: 36.3+ KB\n"
     ]
    }
   ],
   "source": [
    "df['Price'].info()"
   ]
  },
  {
   "cell_type": "code",
   "execution_count": 951,
   "id": "74ec5375-6a4d-4135-afd0-e153cd58b9ff",
   "metadata": {},
   "outputs": [],
   "source": [
    "df['Price'] = pd.to_numeric(df['Price'], errors= 'coerce')"
   ]
  },
  {
   "cell_type": "code",
   "execution_count": 952,
   "id": "da41077a-a679-4d1e-bc3a-a3593e995bf9",
   "metadata": {},
   "outputs": [
    {
     "name": "stderr",
     "output_type": "stream",
     "text": [
      "/var/folders/7r/8kptsd6s1mg7_5bt9s6fsgw80000gn/T/ipykernel_7545/95449060.py:1: FutureWarning: A value is trying to be set on a copy of a DataFrame or Series through chained assignment using an inplace method.\n",
      "The behavior will change in pandas 3.0. This inplace method will never work because the intermediate object on which we are setting values always behaves as a copy.\n",
      "\n",
      "For example, when doing 'df[col].method(value, inplace=True)', try using 'df.method({col: value}, inplace=True)' or df[col] = df[col].method(value) instead, to perform the operation inplace on the original object.\n",
      "\n",
      "\n",
      "  df['Price'].fillna(0, inplace= True)\n"
     ]
    }
   ],
   "source": [
    "df['Price'].fillna(0, inplace= True)"
   ]
  },
  {
   "cell_type": "code",
   "execution_count": 953,
   "id": "2fbe69a1-e033-49cf-ab8a-22ac3e92c3a9",
   "metadata": {},
   "outputs": [
    {
     "name": "stdout",
     "output_type": "stream",
     "text": [
      "<class 'pandas.core.series.Series'>\n",
      "RangeIndex: 4630 entries, 0 to 4629\n",
      "Series name: Price\n",
      "Non-Null Count  Dtype  \n",
      "--------------  -----  \n",
      "4630 non-null   float64\n",
      "dtypes: float64(1)\n",
      "memory usage: 36.3 KB\n"
     ]
    }
   ],
   "source": [
    "df['Price'].info()"
   ]
  },
  {
   "cell_type": "code",
   "execution_count": 954,
   "id": "3eca9482-abda-4e72-ad0c-607864307f50",
   "metadata": {},
   "outputs": [
    {
     "data": {
      "text/html": [
       "<div>\n",
       "<style scoped>\n",
       "    .dataframe tbody tr th:only-of-type {\n",
       "        vertical-align: middle;\n",
       "    }\n",
       "\n",
       "    .dataframe tbody tr th {\n",
       "        vertical-align: top;\n",
       "    }\n",
       "\n",
       "    .dataframe thead th {\n",
       "        text-align: right;\n",
       "    }\n",
       "</style>\n",
       "<table border=\"1\" class=\"dataframe\">\n",
       "  <thead>\n",
       "    <tr style=\"text-align: right;\">\n",
       "      <th></th>\n",
       "      <th>Company</th>\n",
       "      <th>Location</th>\n",
       "      <th>Date</th>\n",
       "      <th>Time</th>\n",
       "      <th>Rocket</th>\n",
       "      <th>Mission</th>\n",
       "      <th>RocketStatus</th>\n",
       "      <th>Price</th>\n",
       "      <th>MissionStatus</th>\n",
       "      <th>DateTime</th>\n",
       "      <th>Year</th>\n",
       "    </tr>\n",
       "  </thead>\n",
       "  <tbody>\n",
       "    <tr>\n",
       "      <th>303</th>\n",
       "      <td>US Air Force</td>\n",
       "      <td>SLC-20, Cape Canaveral AFS, Florida, USA</td>\n",
       "      <td>1964-09-01</td>\n",
       "      <td>15:00:00</td>\n",
       "      <td>Titan IIIA</td>\n",
       "      <td>Transtage 1</td>\n",
       "      <td>Retired</td>\n",
       "      <td>63.23</td>\n",
       "      <td>Failure</td>\n",
       "      <td>1964-09-01 15:00:00</td>\n",
       "      <td>1964</td>\n",
       "    </tr>\n",
       "    <tr>\n",
       "      <th>323</th>\n",
       "      <td>US Air Force</td>\n",
       "      <td>SLC-20, Cape Canaveral AFS, Florida, USA</td>\n",
       "      <td>1964-12-10</td>\n",
       "      <td>16:52:00</td>\n",
       "      <td>Titan IIIA</td>\n",
       "      <td>Transtage 2</td>\n",
       "      <td>Retired</td>\n",
       "      <td>63.23</td>\n",
       "      <td>Success</td>\n",
       "      <td>1964-12-10 16:52:00</td>\n",
       "      <td>1964</td>\n",
       "    </tr>\n",
       "    <tr>\n",
       "      <th>330</th>\n",
       "      <td>US Air Force</td>\n",
       "      <td>SLC-20, Cape Canaveral AFS, Florida, USA</td>\n",
       "      <td>1965-02-11</td>\n",
       "      <td>15:19:00</td>\n",
       "      <td>Titan IIIA</td>\n",
       "      <td>LES 1</td>\n",
       "      <td>Retired</td>\n",
       "      <td>63.23</td>\n",
       "      <td>Success</td>\n",
       "      <td>1965-02-11 15:19:00</td>\n",
       "      <td>1965</td>\n",
       "    </tr>\n",
       "    <tr>\n",
       "      <th>352</th>\n",
       "      <td>US Air Force</td>\n",
       "      <td>SLC-20, Cape Canaveral AFS, Florida, USA</td>\n",
       "      <td>1965-05-06</td>\n",
       "      <td>15:00:00</td>\n",
       "      <td>Titan IIIA</td>\n",
       "      <td>LES 2 &amp; LCS 1</td>\n",
       "      <td>Retired</td>\n",
       "      <td>63.23</td>\n",
       "      <td>Success</td>\n",
       "      <td>1965-05-06 15:00:00</td>\n",
       "      <td>1965</td>\n",
       "    </tr>\n",
       "    <tr>\n",
       "      <th>468</th>\n",
       "      <td>US Air Force</td>\n",
       "      <td>SLC-4W, Vandenberg AFB, California, USA</td>\n",
       "      <td>1966-07-29</td>\n",
       "      <td>18:43:00</td>\n",
       "      <td>Titan IIIB</td>\n",
       "      <td>KH-8</td>\n",
       "      <td>Retired</td>\n",
       "      <td>59.00</td>\n",
       "      <td>Success</td>\n",
       "      <td>1966-07-29 18:43:00</td>\n",
       "      <td>1966</td>\n",
       "    </tr>\n",
       "  </tbody>\n",
       "</table>\n",
       "</div>"
      ],
      "text/plain": [
       "          Company                                  Location       Date  \\\n",
       "303  US Air Force  SLC-20, Cape Canaveral AFS, Florida, USA 1964-09-01   \n",
       "323  US Air Force  SLC-20, Cape Canaveral AFS, Florida, USA 1964-12-10   \n",
       "330  US Air Force  SLC-20, Cape Canaveral AFS, Florida, USA 1965-02-11   \n",
       "352  US Air Force  SLC-20, Cape Canaveral AFS, Florida, USA 1965-05-06   \n",
       "468  US Air Force   SLC-4W, Vandenberg AFB, California, USA 1966-07-29   \n",
       "\n",
       "         Time      Rocket        Mission RocketStatus  Price MissionStatus  \\\n",
       "303  15:00:00  Titan IIIA    Transtage 1      Retired  63.23       Failure   \n",
       "323  16:52:00  Titan IIIA    Transtage 2      Retired  63.23       Success   \n",
       "330  15:19:00  Titan IIIA          LES 1      Retired  63.23       Success   \n",
       "352  15:00:00  Titan IIIA  LES 2 & LCS 1      Retired  63.23       Success   \n",
       "468  18:43:00  Titan IIIB           KH-8      Retired  59.00       Success   \n",
       "\n",
       "               DateTime  Year  \n",
       "303 1964-09-01 15:00:00  1964  \n",
       "323 1964-12-10 16:52:00  1964  \n",
       "330 1965-02-11 15:19:00  1965  \n",
       "352 1965-05-06 15:00:00  1965  \n",
       "468 1966-07-29 18:43:00  1966  "
      ]
     },
     "execution_count": 954,
     "metadata": {},
     "output_type": "execute_result"
    }
   ],
   "source": [
    "apdatePrice = df[df['Price'] > 0]\n",
    "apdatePrice.head()"
   ]
  },
  {
   "cell_type": "code",
   "execution_count": 955,
   "id": "1a486bda-6c3f-474c-9e7d-10359d69aea7",
   "metadata": {},
   "outputs": [],
   "source": [
    "av_c_by_company = apdatePrice.groupby('Company')['Price'].mean().reset_index()"
   ]
  },
  {
   "cell_type": "code",
   "execution_count": 956,
   "id": "335b8722-d03a-402c-be37-066a268a5f8b",
   "metadata": {},
   "outputs": [
    {
     "data": {
      "text/html": [
       "<div>\n",
       "<style scoped>\n",
       "    .dataframe tbody tr th:only-of-type {\n",
       "        vertical-align: middle;\n",
       "    }\n",
       "\n",
       "    .dataframe tbody tr th {\n",
       "        vertical-align: top;\n",
       "    }\n",
       "\n",
       "    .dataframe thead th {\n",
       "        text-align: right;\n",
       "    }\n",
       "</style>\n",
       "<table border=\"1\" class=\"dataframe\">\n",
       "  <thead>\n",
       "    <tr style=\"text-align: right;\">\n",
       "      <th></th>\n",
       "      <th>Company</th>\n",
       "      <th>Average Cost</th>\n",
       "    </tr>\n",
       "  </thead>\n",
       "  <tbody>\n",
       "    <tr>\n",
       "      <th>0</th>\n",
       "      <td>Arianespace</td>\n",
       "      <td>140.875969</td>\n",
       "    </tr>\n",
       "    <tr>\n",
       "      <th>1</th>\n",
       "      <td>Astra</td>\n",
       "      <td>2.500000</td>\n",
       "    </tr>\n",
       "    <tr>\n",
       "      <th>2</th>\n",
       "      <td>Boeing</td>\n",
       "      <td>177.285714</td>\n",
       "    </tr>\n",
       "    <tr>\n",
       "      <th>3</th>\n",
       "      <td>CASC</td>\n",
       "      <td>39.130669</td>\n",
       "    </tr>\n",
       "    <tr>\n",
       "      <th>4</th>\n",
       "      <td>CASIC</td>\n",
       "      <td>5.800000</td>\n",
       "    </tr>\n",
       "  </tbody>\n",
       "</table>\n",
       "</div>"
      ],
      "text/plain": [
       "       Company  Average Cost\n",
       "0  Arianespace    140.875969\n",
       "1        Astra      2.500000\n",
       "2       Boeing    177.285714\n",
       "3         CASC     39.130669\n",
       "4        CASIC      5.800000"
      ]
     },
     "execution_count": 956,
     "metadata": {},
     "output_type": "execute_result"
    }
   ],
   "source": [
    "av_c_by_company.columns = ['Company', 'Average Cost']\n",
    "av_c_by_company.head()"
   ]
  },
  {
   "cell_type": "code",
   "execution_count": 957,
   "id": "d5870a3a-1f8b-40b5-a8e0-7999e6c304e5",
   "metadata": {},
   "outputs": [
    {
     "data": {
      "text/plain": [
       "Company          NASA\n",
       "Average Cost    450.0\n",
       "Name: 19, dtype: object"
      ]
     },
     "execution_count": 957,
     "metadata": {},
     "output_type": "execute_result"
    }
   ],
   "source": [
    "company_highest_avg_cost = av_c_by_company.loc[av_c_by_company['Average Cost'].idxmax()]\n",
    "company_highest_avg_cost"
   ]
  },
  {
   "cell_type": "code",
   "execution_count": 958,
   "id": "4407bfbd-7c70-4a52-9815-57f7b0d62b33",
   "metadata": {},
   "outputs": [
    {
     "data": {
      "text/plain": [
       "Company         Astra\n",
       "Average Cost      2.5\n",
       "Name: 1, dtype: object"
      ]
     },
     "execution_count": 958,
     "metadata": {},
     "output_type": "execute_result"
    }
   ],
   "source": [
    "company_lowest_avg_cost = av_c_by_company.loc[av_c_by_company['Average Cost'].idxmin()]\n",
    "company_lowest_avg_cost"
   ]
  },
  {
   "cell_type": "code",
   "execution_count": 959,
   "id": "37e887ec-0a70-4463-9c38-ee6839202a6f",
   "metadata": {},
   "outputs": [
    {
     "data": {
      "image/png": "[encoded data removed]",
      "text/plain": [
       "<Figure size 640x480 with 1 Axes>"
      ]
     },
     "metadata": {},
     "output_type": "display_data"
    }
   ],
   "source": [
    "plt.figure(figure=(12, 20))\n",
    "plt.bar(av_c_by_company['Company'], av_c_by_company['Average Cost'])\n",
    "plt.xticks(rotation= 90)\n",
    "plt.show()"
   ]
  },
  {
   "cell_type": "markdown",
   "id": "71e1d10c-e871-4843-83ca-0e9f50242add",
   "metadata": {},
   "source": [
    "# Q9: What is the success rate of missions by rocket type?"
   ]
  },
  {
   "cell_type": "code",
   "execution_count": 971,
   "id": "f16043a4-434b-4ee2-89e4-709624d2ad90",
   "metadata": {},
   "outputs": [],
   "source": [
    "df['Rocket'] = df['Rocket'].str.strip() "
   ]
  },
  {
   "cell_type": "code",
   "execution_count": 979,
   "id": "9203fe71-b153-40b4-a69f-470726672719",
   "metadata": {},
   "outputs": [
    {
     "data": {
      "text/html": [
       "<div>\n",
       "<style scoped>\n",
       "    .dataframe tbody tr th:only-of-type {\n",
       "        vertical-align: middle;\n",
       "    }\n",
       "\n",
       "    .dataframe tbody tr th {\n",
       "        vertical-align: top;\n",
       "    }\n",
       "\n",
       "    .dataframe thead th {\n",
       "        text-align: right;\n",
       "    }\n",
       "</style>\n",
       "<table border=\"1\" class=\"dataframe\">\n",
       "  <thead>\n",
       "    <tr style=\"text-align: right;\">\n",
       "      <th></th>\n",
       "      <th>Rocket</th>\n",
       "      <th>Total Missions</th>\n",
       "    </tr>\n",
       "  </thead>\n",
       "  <tbody>\n",
       "    <tr>\n",
       "      <th>0</th>\n",
       "      <td>Cosmos-3M (11K65M)</td>\n",
       "      <td>446</td>\n",
       "    </tr>\n",
       "    <tr>\n",
       "      <th>1</th>\n",
       "      <td>Voskhod</td>\n",
       "      <td>299</td>\n",
       "    </tr>\n",
       "    <tr>\n",
       "      <th>2</th>\n",
       "      <td>Molniya-M /Block ML</td>\n",
       "      <td>128</td>\n",
       "    </tr>\n",
       "    <tr>\n",
       "      <th>3</th>\n",
       "      <td>Cosmos-2I (63SM)</td>\n",
       "      <td>126</td>\n",
       "    </tr>\n",
       "    <tr>\n",
       "      <th>4</th>\n",
       "      <td>Soyuz U</td>\n",
       "      <td>125</td>\n",
       "    </tr>\n",
       "  </tbody>\n",
       "</table>\n",
       "</div>"
      ],
      "text/plain": [
       "                Rocket  Total Missions\n",
       "0   Cosmos-3M (11K65M)             446\n",
       "1              Voskhod             299\n",
       "2  Molniya-M /Block ML             128\n",
       "3     Cosmos-2I (63SM)             126\n",
       "4              Soyuz U             125"
      ]
     },
     "execution_count": 979,
     "metadata": {},
     "output_type": "execute_result"
    }
   ],
   "source": [
    "t_missions = df['Rocket'].value_counts().reset_index()\n",
    "t_missions.columns = ['Rocket', 'Total Missions']\n",
    "t_missions.head()"
   ]
  },
  {
   "cell_type": "code",
   "execution_count": 983,
   "id": "c45aa0a0-6172-4728-86b4-0d11dfe2bc7f",
   "metadata": {},
   "outputs": [
    {
     "data": {
      "text/html": [
       "<div>\n",
       "<style scoped>\n",
       "    .dataframe tbody tr th:only-of-type {\n",
       "        vertical-align: middle;\n",
       "    }\n",
       "\n",
       "    .dataframe tbody tr th {\n",
       "        vertical-align: top;\n",
       "    }\n",
       "\n",
       "    .dataframe thead th {\n",
       "        text-align: right;\n",
       "    }\n",
       "</style>\n",
       "<table border=\"1\" class=\"dataframe\">\n",
       "  <thead>\n",
       "    <tr style=\"text-align: right;\">\n",
       "      <th></th>\n",
       "      <th>Rocket</th>\n",
       "      <th>Success Mission</th>\n",
       "    </tr>\n",
       "  </thead>\n",
       "  <tbody>\n",
       "    <tr>\n",
       "      <th>0</th>\n",
       "      <td>Cosmos-3M (11K65M)</td>\n",
       "      <td>419</td>\n",
       "    </tr>\n",
       "    <tr>\n",
       "      <th>1</th>\n",
       "      <td>Voskhod</td>\n",
       "      <td>283</td>\n",
       "    </tr>\n",
       "    <tr>\n",
       "      <th>2</th>\n",
       "      <td>Molniya-M /Block ML</td>\n",
       "      <td>122</td>\n",
       "    </tr>\n",
       "    <tr>\n",
       "      <th>3</th>\n",
       "      <td>Cosmos-2I (63SM)</td>\n",
       "      <td>118</td>\n",
       "    </tr>\n",
       "    <tr>\n",
       "      <th>4</th>\n",
       "      <td>Soyuz U</td>\n",
       "      <td>118</td>\n",
       "    </tr>\n",
       "  </tbody>\n",
       "</table>\n",
       "</div>"
      ],
      "text/plain": [
       "                Rocket  Success Mission\n",
       "0   Cosmos-3M (11K65M)              419\n",
       "1              Voskhod              283\n",
       "2  Molniya-M /Block ML              122\n",
       "3     Cosmos-2I (63SM)              118\n",
       "4              Soyuz U              118"
      ]
     },
     "execution_count": 983,
     "metadata": {},
     "output_type": "execute_result"
    }
   ],
   "source": [
    "m_success = df[df['MissionStatus'] == 'Success']['Rocket'].value_counts().reset_index()\n",
    "m_success.columns = ['Rocket', 'Success Mission']\n",
    "m_success.head()"
   ]
  },
  {
   "cell_type": "code",
   "execution_count": 985,
   "id": "73e020ee-b187-4770-acd5-5e8a7c960dbf",
   "metadata": {},
   "outputs": [
    {
     "data": {
      "text/html": [
       "<div>\n",
       "<style scoped>\n",
       "    .dataframe tbody tr th:only-of-type {\n",
       "        vertical-align: middle;\n",
       "    }\n",
       "\n",
       "    .dataframe tbody tr th {\n",
       "        vertical-align: top;\n",
       "    }\n",
       "\n",
       "    .dataframe thead th {\n",
       "        text-align: right;\n",
       "    }\n",
       "</style>\n",
       "<table border=\"1\" class=\"dataframe\">\n",
       "  <thead>\n",
       "    <tr style=\"text-align: right;\">\n",
       "      <th></th>\n",
       "      <th>Rocket</th>\n",
       "      <th>Total Missions</th>\n",
       "      <th>Success Mission</th>\n",
       "    </tr>\n",
       "  </thead>\n",
       "  <tbody>\n",
       "    <tr>\n",
       "      <th>0</th>\n",
       "      <td>Cosmos-3M (11K65M)</td>\n",
       "      <td>446</td>\n",
       "      <td>419.0</td>\n",
       "    </tr>\n",
       "    <tr>\n",
       "      <th>1</th>\n",
       "      <td>Voskhod</td>\n",
       "      <td>299</td>\n",
       "      <td>283.0</td>\n",
       "    </tr>\n",
       "    <tr>\n",
       "      <th>2</th>\n",
       "      <td>Molniya-M /Block ML</td>\n",
       "      <td>128</td>\n",
       "      <td>122.0</td>\n",
       "    </tr>\n",
       "    <tr>\n",
       "      <th>3</th>\n",
       "      <td>Cosmos-2I (63SM)</td>\n",
       "      <td>126</td>\n",
       "      <td>118.0</td>\n",
       "    </tr>\n",
       "    <tr>\n",
       "      <th>4</th>\n",
       "      <td>Soyuz U</td>\n",
       "      <td>125</td>\n",
       "      <td>118.0</td>\n",
       "    </tr>\n",
       "  </tbody>\n",
       "</table>\n",
       "</div>"
      ],
      "text/plain": [
       "                Rocket  Total Missions  Success Mission\n",
       "0   Cosmos-3M (11K65M)             446            419.0\n",
       "1              Voskhod             299            283.0\n",
       "2  Molniya-M /Block ML             128            122.0\n",
       "3     Cosmos-2I (63SM)             126            118.0\n",
       "4              Soyuz U             125            118.0"
      ]
     },
     "execution_count": 985,
     "metadata": {},
     "output_type": "execute_result"
    }
   ],
   "source": [
    "s_rate = pd.merge(t_missions, m_success, on= 'Rocket', how= 'left')\n",
    "s_rate.head()"
   ]
  },
  {
   "cell_type": "code",
   "execution_count": 987,
   "id": "b8eeae22-6fe2-4408-be63-7ee79985d16a",
   "metadata": {},
   "outputs": [],
   "source": [
    "s_rate['Success Rate %'] = (s_rate['Success Mission'] / s_rate['Total Missions']) * 100"
   ]
  },
  {
   "cell_type": "code",
   "execution_count": 991,
   "id": "840ce443-6f7b-411e-adf5-0fbfd1e97566",
   "metadata": {},
   "outputs": [],
   "source": [
    "s_rate['Success Rate %'] =s_rate['Success Rate %'].fillna(0)"
   ]
  },
  {
   "cell_type": "code",
   "execution_count": 993,
   "id": "6a7ec3ee-4c0e-4686-92ce-e15ad0ca4c4d",
   "metadata": {},
   "outputs": [
    {
     "data": {
      "text/html": [
       "<div>\n",
       "<style scoped>\n",
       "    .dataframe tbody tr th:only-of-type {\n",
       "        vertical-align: middle;\n",
       "    }\n",
       "\n",
       "    .dataframe tbody tr th {\n",
       "        vertical-align: top;\n",
       "    }\n",
       "\n",
       "    .dataframe thead th {\n",
       "        text-align: right;\n",
       "    }\n",
       "</style>\n",
       "<table border=\"1\" class=\"dataframe\">\n",
       "  <thead>\n",
       "    <tr style=\"text-align: right;\">\n",
       "      <th></th>\n",
       "      <th>Rocket</th>\n",
       "      <th>Total Missions</th>\n",
       "      <th>Success Mission</th>\n",
       "      <th>Success Rate %</th>\n",
       "    </tr>\n",
       "  </thead>\n",
       "  <tbody>\n",
       "    <tr>\n",
       "      <th>0</th>\n",
       "      <td>Cosmos-3M (11K65M)</td>\n",
       "      <td>446</td>\n",
       "      <td>419.0</td>\n",
       "      <td>93.946188</td>\n",
       "    </tr>\n",
       "    <tr>\n",
       "      <th>1</th>\n",
       "      <td>Voskhod</td>\n",
       "      <td>299</td>\n",
       "      <td>283.0</td>\n",
       "      <td>94.648829</td>\n",
       "    </tr>\n",
       "    <tr>\n",
       "      <th>2</th>\n",
       "      <td>Molniya-M /Block ML</td>\n",
       "      <td>128</td>\n",
       "      <td>122.0</td>\n",
       "      <td>95.312500</td>\n",
       "    </tr>\n",
       "    <tr>\n",
       "      <th>3</th>\n",
       "      <td>Cosmos-2I (63SM)</td>\n",
       "      <td>126</td>\n",
       "      <td>118.0</td>\n",
       "      <td>93.650794</td>\n",
       "    </tr>\n",
       "    <tr>\n",
       "      <th>4</th>\n",
       "      <td>Soyuz U</td>\n",
       "      <td>125</td>\n",
       "      <td>118.0</td>\n",
       "      <td>94.400000</td>\n",
       "    </tr>\n",
       "  </tbody>\n",
       "</table>\n",
       "</div>"
      ],
      "text/plain": [
       "                Rocket  Total Missions  Success Mission  Success Rate %\n",
       "0   Cosmos-3M (11K65M)             446            419.0       93.946188\n",
       "1              Voskhod             299            283.0       94.648829\n",
       "2  Molniya-M /Block ML             128            122.0       95.312500\n",
       "3     Cosmos-2I (63SM)             126            118.0       93.650794\n",
       "4              Soyuz U             125            118.0       94.400000"
      ]
     },
     "execution_count": 993,
     "metadata": {},
     "output_type": "execute_result"
    }
   ],
   "source": [
    "s_rate.head()"
   ]
  },
  {
   "cell_type": "code",
   "execution_count": 995,
   "id": "d2ddd88c-0fe6-4107-ba79-3a2cb24313d2",
   "metadata": {},
   "outputs": [],
   "source": [
    "s_rate = s_rate.sort_values(by= 'Success Rate %', ascending= False)"
   ]
  },
  {
   "cell_type": "code",
   "execution_count": 1007,
   "id": "cdfd93a7-bde2-432a-964a-dcdb65c6d48f",
   "metadata": {},
   "outputs": [],
   "source": [
    "n_s_rate = s_rate[s_rate['Total Missions'] > 0]"
   ]
  },
  {
   "cell_type": "code",
   "execution_count": 1009,
   "id": "1512143e-61b9-4bf0-8a98-74893c8e95c0",
   "metadata": {},
   "outputs": [
    {
     "data": {
      "image/png": "[encoded data removed]",
      "text/plain": [
       "<Figure size 640x480 with 1 Axes>"
      ]
     },
     "metadata": {},
     "output_type": "display_data"
    }
   ],
   "source": [
    "plt.bar(n_s_rate['Rocket'], n_s_rate['Success Rate %'])\n",
    "plt.show()"
   ]
  },
  {
   "cell_type": "code",
   "execution_count": null,
   "id": "0bc0eb1d-0e7d-4f47-8a44-3e1b96f15ba0",
   "metadata": {},
   "outputs": [],
   "source": []
  },
  {
   "cell_type": "code",
   "execution_count": null,
   "id": "c20a86a9-aca5-4ccb-b349-876716bd7f3a",
   "metadata": {},
   "outputs": [],
   "source": []
  }
 ],
 "metadata": {
  "kernelspec": {
   "display_name": "Python [conda env:base] *",
   "language": "python",
   "name": "conda-base-py"
  },
  "language_info": {
   "codemirror_mode": {
    "name": "ipython",
    "version": 3
   },
   "file_extension": ".py",
   "mimetype": "text/x-python",
   "name": "python",
   "nbconvert_exporter": "python",
   "pygments_lexer": "ipython3",
   "version": "3.12.7"
  }
 },
 "nbformat": 4,
 "nbformat_minor": 5
}
